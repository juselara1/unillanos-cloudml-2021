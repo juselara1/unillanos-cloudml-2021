{
 "cells": [
  {
   "cell_type": "markdown",
   "id": "df4b244e",
   "metadata": {},
   "source": [
    "# Taller de Machine Learning en la Nube con Python - Introducción a Matplotlib\n",
    "**Juan S. Lara**\n",
    "\n",
    "*Universidad Nacional de Colombia*\n",
    "\n",
    "[julara@unal.edu.co]()\n",
    "\n",
    "<a href=\"https://github.com/juselara1\"><img src=\"https://mpng.subpng.com/20180326/gxq/kisspng-github-computer-icons-icon-design-github-5ab8a31e334e73.4114704215220498222102.jpg\" width=\"20\" align=\"left\"></a>\n",
    "<a href=\"https://www.linkedin.com/in/juan-sebastian-lara-ramirez-43570a214/\"><img src=\"https://image.flaticon.com/icons/png/512/174/174857.png\" width=\"20\" align=\"left\"></a>\n",
    "<a href=\"https://www.researchgate.net/profile/Juan-Lara-Ramirez\"><img src=\"https://user-images.githubusercontent.com/511683/28757557-f82cff1a-7585-11e7-9317-072a838dcca3.png\" width=\"20\" align=\"left\"></a>"
   ]
  },
  {
   "cell_type": "markdown",
   "id": "9eb197e5",
   "metadata": {},
   "source": [
    "## Que es Matplotlib?\n",
    "\n",
    "Se trata de una librería para visualización. Permite crear gráficas estáticas, interactivas y animadas en Python. Es una librería que usa varios toolkits para interfaces gráficas de usuario como Qt, Tkinter, entre otros.\n",
    "\n",
    "<img src=\"https://matplotlib.org/_static/logo2_compressed.svg\" width=500>\n",
    "\n",
    "`matplotlib` típicamente se importa utilizando el alias `plt`:"
   ]
  },
  {
   "cell_type": "code",
   "execution_count": null,
   "id": "055cdf74",
   "metadata": {},
   "outputs": [],
   "source": [
    "import matplotlib.pyplot as plt\n",
    "import numpy as np\n",
    "%matplotlib inline"
   ]
  },
  {
   "cell_type": "markdown",
   "id": "a9c8b5f6",
   "metadata": {},
   "source": [
    "## Objetos Base\n",
    "\n",
    "En `matplotlib` típicamente vamos a estar tratando con dos tipos de objetos: las figuras y los ejes."
   ]
  },
  {
   "cell_type": "markdown",
   "id": "d4019d3b",
   "metadata": {},
   "source": [
    "### Figuras\n",
    "\n",
    "Las figuras son los objetos que representan las ventanas a nivel de interfaz gráfica. Una figura puede contener varios ejes dentro de sí y se definen de la siguiente forma:"
   ]
  },
  {
   "cell_type": "code",
   "execution_count": null,
   "id": "c4374601",
   "metadata": {},
   "outputs": [],
   "source": [
    "fig = plt.Figure(\n",
    "    figsize=(10, 10),\n",
    "    facecolor=(0.1, 0.1, 0.1)\n",
    ")\n",
    "print(fig)\n",
    "print(type(fig))"
   ]
  },
  {
   "cell_type": "markdown",
   "id": "7a436c03",
   "metadata": {},
   "source": [
    "### Ejes\n",
    "\n",
    "Los ejes son objetos que representan las gráficas y generalmente se ven gráficamente como planos cartesianos o ejes 3D. Se definen de la siguiente forma:"
   ]
  },
  {
   "cell_type": "code",
   "execution_count": null,
   "id": "50049b55",
   "metadata": {},
   "outputs": [],
   "source": [
    "ax = fig.add_axes([0, 0, 1, 1]) # x_inicial, y_inicial, ancho, alto\n",
    "fig"
   ]
  },
  {
   "cell_type": "markdown",
   "id": "db86fbde",
   "metadata": {},
   "source": [
    "Una figura puede tener uno o varios ejes, en cada eje vamos a poner las visualizaciones que necesitemos generar. Veamos un ejemplo de una figura con dos ejes:"
   ]
  },
  {
   "cell_type": "code",
   "execution_count": null,
   "id": "24738115",
   "metadata": {},
   "outputs": [],
   "source": [
    "fig = plt.Figure(\n",
    "    figsize=(10, 10),\n",
    "    facecolor=(0.1, 0.1, 0.1)\n",
    ")\n",
    "ax1 = fig.add_axes([0, 0, 0.45, 1])\n",
    "ax2 = fig.add_axes([0.55, 0, 0.45, 1])"
   ]
  },
  {
   "cell_type": "markdown",
   "id": "f2d0d9c0",
   "metadata": {},
   "source": [
    "Cuando requerimos que los ejes tengan el mismo tamaño y se ubiquen en forma de retícula, podemos usar el método `subplots`:"
   ]
  },
  {
   "cell_type": "code",
   "execution_count": null,
   "id": "a0194f8b",
   "metadata": {},
   "outputs": [],
   "source": [
    "fig, ax = plt.subplots(\n",
    "    2, 2,\n",
    "    figsize=(10, 10)\n",
    ")\n",
    "print(fig)\n",
    "print(ax)"
   ]
  },
  {
   "cell_type": "markdown",
   "id": "6b5a553a",
   "metadata": {},
   "source": [
    "## Tipos de Gráficas\n",
    "\n",
    "Veamos ejemplos de algunos tipos de gráficas que podemos generar en `matplotlib`."
   ]
  },
  {
   "cell_type": "markdown",
   "id": "53afd4b9",
   "metadata": {},
   "source": [
    "### Line Plot\n",
    "\n",
    "Se trata de un tipo de gráfico en el que se muestra una serie de puntos unidos por medio de una linea."
   ]
  },
  {
   "cell_type": "code",
   "execution_count": null,
   "id": "06c84e8a",
   "metadata": {},
   "outputs": [],
   "source": [
    "# definimos dos arreglos de numpy\n",
    "x = np.linspace(-10, 10, 100)\n",
    "y = x ** 2\n",
    "\n",
    "fig, ax = plt.subplots(1, 1)\n",
    "ax.plot(x, y)\n",
    "fig.savefig(\"im.png\")"
   ]
  },
  {
   "cell_type": "markdown",
   "id": "a6f4ab26",
   "metadata": {},
   "source": [
    "### Scatter Plot\n",
    "\n",
    "Es una gráfica que permite visualizar una nube de puntos."
   ]
  },
  {
   "cell_type": "code",
   "execution_count": null,
   "id": "0d0680be",
   "metadata": {},
   "outputs": [],
   "source": [
    "# definimos un arreglo de numpy\n",
    "X = np.random.normal(size=(100, 2))\n",
    "fig, ax = plt.subplots(1, 1)\n",
    "ax.scatter(X[:, 0], X[:, 1])"
   ]
  },
  {
   "cell_type": "markdown",
   "id": "2f402e9a",
   "metadata": {},
   "source": [
    "### Bar Plot\n",
    "\n",
    "Esta gráfica nos permite generar un diagrama de barras."
   ]
  },
  {
   "cell_type": "code",
   "execution_count": null,
   "id": "e580093d",
   "metadata": {},
   "outputs": [],
   "source": [
    "# definimos elementos y sus conteos:\n",
    "labels = [\"Perros\", \"Gatos\", \"Pajaros\"]\n",
    "counts = [50, 50, 10]\n",
    "\n",
    "fig, ax = plt.subplots(1, 1)\n",
    "ax.bar(labels, counts)"
   ]
  },
  {
   "cell_type": "markdown",
   "id": "2ac86e0e",
   "metadata": {},
   "source": [
    "### Pie Plot\n",
    "\n",
    "Diagrama de pastel."
   ]
  },
  {
   "cell_type": "code",
   "execution_count": null,
   "id": "46a4a6ac",
   "metadata": {},
   "outputs": [],
   "source": [
    "labels = [\"Perros\", \"Gatos\", \"Pajaros\"]\n",
    "freqs = [0.4, 0.4, 0.2]\n",
    "fig, ax = plt.subplots(1, 1)\n",
    "ax.pie(freqs, labels=labels)"
   ]
  },
  {
   "cell_type": "markdown",
   "id": "c2f19b96",
   "metadata": {},
   "source": [
    "### Imshow\n",
    "\n",
    "Nos permite visualizar imágenes y mapas de calor.\n",
    "**Puede descargar los datos, corriendo el siguiente comando**\n",
    "```python\n",
    "!wget https://raw.githubusercontent.com/juselara1/unillanos-cloudml-2021/main/matplotlib/data/im.npy\n",
    "```"
   ]
  },
  {
   "cell_type": "code",
   "execution_count": null,
   "id": "1bfab3bc",
   "metadata": {
    "lines_to_next_cell": 1
   },
   "outputs": [],
   "source": [
    "X = np.load(\"data/im.npy\")\n",
    "fig, ax = plt.subplots(1, 1)\n",
    "ax.imshow(X, cmap=\"gray\")"
   ]
  },
  {
   "cell_type": "markdown",
   "id": "c0fcdd55",
   "metadata": {},
   "source": [
    "Ahora, veamos un ejemplo de un mapa de calor, vamos a generarlo para una distribución normal bi-variada."
   ]
  },
  {
   "cell_type": "code",
   "execution_count": null,
   "id": "30b1b571",
   "metadata": {},
   "outputs": [],
   "source": [
    "# definimos la PDF de la distribución normal\n",
    "def multivariate_normal(\n",
    "        x,\n",
    "        mu=np.zeros((2, 1)),\n",
    "        Sigma=np.eye(2)\n",
    "        ):\n",
    "    \"\"\"\n",
    "    Calculamos la PDF de una distribución normal.\n",
    "    \"\"\"\n",
    "    ker = np.exp(\n",
    "            -0.5 * \n",
    "            (x - mu).T @ \n",
    "            np.linalg.inv(Sigma) @\n",
    "            (x - mu)\n",
    "            )\n",
    "    return float(ker / (\n",
    "            2 * np.pi * \n",
    "            np.sqrt(np.linalg.det(Sigma))\n",
    "            ))\n",
    "\n",
    "# Creamos una retícula de puntos\n",
    "dom = np.linspace(-1, 1, 100)\n",
    "X, Y = np.meshgrid(\n",
    "        dom, dom\n",
    "        )\n",
    "\n",
    "# Concatenamos los puntos \n",
    "points = np.hstack([\n",
    "    X.reshape(-1, 1),\n",
    "    Y.reshape(-1, 1)\n",
    "    ])\n",
    "\n",
    "# Evaluamos la pdf en cada punto\n",
    "pdf_x = np.array([\n",
    "    multivariate_normal(\n",
    "        point.reshape(-1, 1)\n",
    "        )\n",
    "    for point in points\n",
    "    ])"
   ]
  },
  {
   "cell_type": "markdown",
   "id": "01ae24c1",
   "metadata": {},
   "source": [
    "Finalmente, generamos el mapa de calor"
   ]
  },
  {
   "cell_type": "code",
   "execution_count": null,
   "id": "80a40090",
   "metadata": {
    "lines_to_next_cell": 2
   },
   "outputs": [],
   "source": [
    "fig, ax = plt.subplots(1, 2)\n",
    "ax[0].imshow(\n",
    "        pdf_x.reshape(X.shape),\n",
    "        cmap=\"Blues\"\n",
    "        );\n",
    "ax[0].set_xticks([0, 50, 99]);\n",
    "ax[0].set_xticklabels([-1, 0, 1])\n",
    "ax[0].set_yticks([0, 50, 99]);\n",
    "ax[0].set_yticklabels([-1, 0, 1])\n",
    "\n",
    "ax[1].contour(\n",
    "        X, Y,\n",
    "        pdf_x.reshape(X.shape),\n",
    "        cmap=\"Blues\"\n",
    "        );\n",
    "fig.tight_layout()"
   ]
  }
 ],
 "metadata": {
  "jupytext": {
   "cell_metadata_filter": "-all",
   "main_language": "python",
   "notebook_metadata_filter": "-all"
  }
 },
 "nbformat": 4,
 "nbformat_minor": 5
}
