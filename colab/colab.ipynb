{
 "cells": [
  {
   "cell_type": "markdown",
   "id": "22cf85f9",
   "metadata": {},
   "source": [
    "# Taller de Machine Learning en la Nube con Python - Google Colaboratory\n",
    "**Juan S. Lara**\n",
    "\n",
    "*Universidad Nacional de Colombia*\n",
    "\n",
    "[julara@unal.edu.co]()\n",
    "\n",
    "<a href=\"https://github.com/juselara1\"><img src=\"https://mpng.subpng.com/20180326/gxq/kisspng-github-computer-icons-icon-design-github-5ab8a31e334e73.4114704215220498222102.jpg\" width=\"20\" align=\"left\"></a>\n",
    "<a href=\"https://www.linkedin.com/in/juan-sebastian-lara-ramirez-43570a214/\"><img src=\"https://image.flaticon.com/icons/png/512/174/174857.png\" width=\"20\" align=\"left\"></a>\n",
    "<a href=\"https://www.researchgate.net/profile/Juan-Lara-Ramirez\"><img src=\"https://user-images.githubusercontent.com/511683/28757557-f82cff1a-7585-11e7-9317-072a838dcca3.png\" width=\"20\" align=\"left\"></a>"
   ]
  },
  {
   "cell_type": "markdown",
   "id": "9bc7bde3",
   "metadata": {},
   "source": [
    "## ¿Qué es Google Colaboratory?\n",
    "Se trata de un servicio gratuito para computo en la nube que permite ejecutar código en Python desde cualquier navegador. Es un servicio que no requiere mucha configuración, ofrece procesamiento en CPU y GPU gratuito, acceso a RAM y almacenamiento en disco.\n",
    "\n",
    "Google Colaboratory esta pensado para ejecutar Jupyter Notebooks, los cuales son una herramienta que permite correr, visualizar y evaluar fragmentos de código ordenados en celdas, por ejemplo:"
   ]
  },
  {
   "cell_type": "code",
   "execution_count": null,
   "id": "1cd2466b",
   "metadata": {},
   "outputs": [],
   "source": [
    "x = 1\n",
    "print(x)"
   ]
  },
  {
   "cell_type": "markdown",
   "id": "0b470c8d",
   "metadata": {},
   "source": [
    "Desde Colaboratory podemos acceder a otros servicios en la nube, por ejemplo Google Drive:"
   ]
  },
  {
   "cell_type": "code",
   "execution_count": null,
   "id": "357c0eba",
   "metadata": {},
   "outputs": [],
   "source": [
    "from google.colab import drive\n",
    "drive.mount(\"content/drive\")"
   ]
  },
  {
   "cell_type": "markdown",
   "id": "ff3aaa0f",
   "metadata": {},
   "source": [
    "Veamos unas pruebas generales:"
   ]
  },
  {
   "cell_type": "markdown",
   "id": "9a84c7a7",
   "metadata": {},
   "source": [
    "* RAM"
   ]
  },
  {
   "cell_type": "code",
   "execution_count": null,
   "id": "d50837c6",
   "metadata": {},
   "outputs": [],
   "source": [
    "x = list(range(int(1e8)))"
   ]
  },
  {
   "cell_type": "markdown",
   "id": "d1e0f13c",
   "metadata": {},
   "source": [
    "* Disco"
   ]
  },
  {
   "cell_type": "code",
   "execution_count": null,
   "id": "c247e53b",
   "metadata": {},
   "outputs": [],
   "source": [
    "with open(\"test.txt\", \"w\") as f:\n",
    "    for x_i in x:\n",
    "        f.write(f\"{x_i}\\n\")"
   ]
  }
 ],
 "metadata": {
  "jupytext": {
   "cell_metadata_filter": "-all",
   "main_language": "python",
   "notebook_metadata_filter": "-all"
  }
 },
 "nbformat": 4,
 "nbformat_minor": 5
}
