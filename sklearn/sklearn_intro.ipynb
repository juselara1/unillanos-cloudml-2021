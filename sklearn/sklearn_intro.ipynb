{
 "cells": [
  {
   "cell_type": "markdown",
   "id": "cff64e93",
   "metadata": {},
   "source": [
    "# Taller de Machine Learning en la Nube con Python - Introducción a Scikit Learn\n",
    "**Juan S. Lara**\n",
    "\n",
    "*Universidad Nacional de Colombia*\n",
    "\n",
    "[julara@unal.edu.co]()\n",
    "\n",
    "<a href=\"https://github.com/juselara1\"><img src=\"https://mpng.subpng.com/20180326/gxq/kisspng-github-computer-icons-icon-design-github-5ab8a31e334e73.4114704215220498222102.jpg\" width=\"20\" align=\"left\"></a>\n",
    "<a href=\"https://www.linkedin.com/in/juan-sebastian-lara-ramirez-43570a214/\"><img src=\"https://image.flaticon.com/icons/png/512/174/174857.png\" width=\"20\" align=\"left\"></a>\n",
    "<a href=\"https://www.researchgate.net/profile/Juan-Lara-Ramirez\"><img src=\"https://user-images.githubusercontent.com/511683/28757557-f82cff1a-7585-11e7-9317-072a838dcca3.png\" width=\"20\" align=\"left\"></a>"
   ]
  },
  {
   "cell_type": "code",
   "execution_count": null,
   "id": "7bea949d",
   "metadata": {},
   "outputs": [],
   "source": [
    "# librerías para manipulación de datos\n",
    "import numpy as np\n",
    "\n",
    "# modelos y funcionalidades de sklearn que se van a usar\n",
    "from sklearn.neural_network import MLPClassifier, MLPRegressor\n",
    "from sklearn.metrics import confusion_matrix, r2_score\n",
    "from sklearn.model_selection import train_test_split\n",
    "from sklearn.cluster import KMeans\n",
    "\n",
    "# conjuntos de datos a usar\n",
    "from sklearn.datasets import load_digits, load_boston, load_sample_image\n",
    "from scipy.misc import face\n",
    "\n",
    "# librerías de visualización\n",
    "import matplotlib.pyplot as plt\n",
    "plt.style.use(\"ggplot\")\n",
    "%matplotlib inline"
   ]
  },
  {
   "cell_type": "markdown",
   "id": "a0036f0a",
   "metadata": {
    "lines_to_next_cell": 0
   },
   "source": [
    "## ¿Qué es Scikit-learn?\n",
    "`sklearn` es una librería para la implementación, entrenamiento, evaluación y selección de modelos de machine learning. Contiene varios modelos listos para usar, métricas, técnicas de validación, creación de flujos, entre otros.\n",
    "\n",
    "<img src=\"https://scikit-learn.org/stable/_static/ml_map.png\" width=\"800\">"
   ]
  },
  {
   "cell_type": "markdown",
   "id": "12df5933",
   "metadata": {},
   "source": [
    "## Clasificación\n",
    "\n",
    "Un problema de clasificación consiste en partir de un conjunto de características o variables $\\mathbf{X} \\in \\mathbb{R}^{N \\times m}$ y predecir una o varias categorías $\\mathbf{y} \\in \\mathbb{R}^{N \\times k}$. Veamos un ejemplo practico."
   ]
  },
  {
   "cell_type": "markdown",
   "id": "8b38d77a",
   "metadata": {},
   "source": [
    "### Carga de datos\n",
    "\n",
    "Vamos a usar un conjunto de datos que contiene imágenes de números escritos a mano y su respectiva etiqueta:"
   ]
  },
  {
   "cell_type": "code",
   "execution_count": null,
   "id": "7b6ce1fa",
   "metadata": {},
   "outputs": [],
   "source": [
    "digits = load_digits()"
   ]
  },
  {
   "cell_type": "markdown",
   "id": "dcc3d9d2",
   "metadata": {},
   "source": [
    "Veamos un ejemplo de las imágenes:"
   ]
  },
  {
   "cell_type": "code",
   "execution_count": null,
   "id": "1933cea9",
   "metadata": {},
   "outputs": [],
   "source": [
    "fig, ax = plt.subplots(3, 3, figsize=(10, 10))\n",
    "cont = 0\n",
    "for i in range(3):\n",
    "    for j in range(3):\n",
    "        ax[i, j].imshow(digits[\"images\"][cont], \"gray\")\n",
    "        ax[i, j].set_title(digits[\"target\"][cont])\n",
    "        ax[i, j].axis(\"off\")\n",
    "        cont += 1"
   ]
  },
  {
   "cell_type": "markdown",
   "id": "267e03d5",
   "metadata": {},
   "source": [
    "### Creación del Conjunto de Datos\n",
    "Comenzaremos definiendo el conjunto de datos como arreglos de numpy:"
   ]
  },
  {
   "cell_type": "code",
   "execution_count": null,
   "id": "761fa7d2",
   "metadata": {},
   "outputs": [],
   "source": [
    "X = digits[\"data\"]\n",
    "y = digits[\"target\"]\n",
    "print(X.shape)\n",
    "print(y.shape)"
   ]
  },
  {
   "cell_type": "markdown",
   "id": "ef071899",
   "metadata": {},
   "source": [
    "### Ahora tomaremos un enfoque típico para validación de modelos conocido como cross-validation. Consiste en dividir el conjunto de datos en dos partes:\n",
    "* Conjunto de entrenamiento: datos sobre los que se va a entrenar el modelo o a realizar la estimación de parámetros.\n",
    "* Conjunto de validación: datos sobre los que se evalúa el modelo una vez entrenado.\n",
    "Veamos como hacer esto con `sklearn`"
   ]
  },
  {
   "cell_type": "code",
   "execution_count": null,
   "id": "e334e4ce",
   "metadata": {},
   "outputs": [],
   "source": [
    "X_train, X_test, y_train, y_test = train_test_split(\n",
    "        X, y,\n",
    "        test_size=0.3\n",
    "        )\n",
    "print(X_train.shape)\n",
    "print(X_test.shape)\n",
    "print(y_train.shape)\n",
    "print(y_test.shape)"
   ]
  },
  {
   "cell_type": "markdown",
   "id": "df8b8156",
   "metadata": {},
   "source": [
    "### Modelamiento\n",
    "\n",
    "Existen diversos modelos que pueden ser usados para clasificación, en este caso nos enfocaremos mas en la metodología que en el detalle matemático. Para la demostración, utilizaremos una red neuronal (veremos sus detalles mas adelante)."
   ]
  },
  {
   "cell_type": "code",
   "execution_count": null,
   "id": "64dbbe82",
   "metadata": {},
   "outputs": [],
   "source": [
    "model = MLPClassifier((32, 32))"
   ]
  },
  {
   "cell_type": "markdown",
   "id": "2b17079e",
   "metadata": {},
   "source": [
    "Ahora, veamos como es el entrenamiento o estimación de parámetros: "
   ]
  },
  {
   "cell_type": "code",
   "execution_count": null,
   "id": "17035652",
   "metadata": {},
   "outputs": [],
   "source": [
    "model.fit(X_train, y_train)"
   ]
  },
  {
   "cell_type": "markdown",
   "id": "40e98633",
   "metadata": {},
   "source": [
    "Veamos algunos ejemplos de lo que aprendió el modelo"
   ]
  },
  {
   "cell_type": "code",
   "execution_count": null,
   "id": "59442f90",
   "metadata": {},
   "outputs": [],
   "source": [
    "idx = 10 # podemos cambiar este valor para ver diferentes imágenes\n",
    "plt.imshow(\n",
    "        X_train[idx].reshape(8, 8),\n",
    "        cmap=\"gray\"\n",
    "        )\n",
    "plt.title(\n",
    "        f\"Predicción: {model.predict(X_train[idx:idx + 1, :])[0]}\"\n",
    "        );\n",
    "plt.axis(\"off\");"
   ]
  },
  {
   "cell_type": "code",
   "execution_count": null,
   "id": "e4027762",
   "metadata": {},
   "outputs": [],
   "source": [
    "# ### Evaluación del modelo\n",
    "#\n",
    "# La evaluación del modelo la realizaremos sobre el conjunto de evaluación (datos no vistos) de esta forma determinaremos que tanto esta generalizando el modelo entrenado. Primero evaluemos la exactitud:"
   ]
  },
  {
   "cell_type": "code",
   "execution_count": null,
   "id": "aacd395b",
   "metadata": {},
   "outputs": [],
   "source": [
    "model.score(X_test, y_test) # Evaluamos la exactitud del modelo (numero de aciertos)"
   ]
  },
  {
   "cell_type": "markdown",
   "id": "831c8384",
   "metadata": {},
   "source": [
    "Esto lo podemos ver de forma más detallada con una matriz de confusión:"
   ]
  },
  {
   "cell_type": "code",
   "execution_count": null,
   "id": "297db945",
   "metadata": {},
   "outputs": [],
   "source": [
    "fig, ax = plt.subplots(1, 1, figsize=(10, 10))\n",
    "y_pred = model.predict(X_test)\n",
    "cm = confusion_matrix(y_test, y_pred)\n",
    "ax.imshow(cm);\n",
    "ax.set_xlabel(\"Predicho\");\n",
    "ax.set_ylabel(\"Real\");\n",
    "ax.set_xticks(range(10));\n",
    "ax.set_yticks(range(10));"
   ]
  },
  {
   "cell_type": "markdown",
   "id": "16861563",
   "metadata": {},
   "source": [
    "## Regresión\n",
    "\n",
    "Ahora vamos a ver un problema similar en el que no tenemos que predecir una categoría sino un valor continuo (decimal)."
   ]
  },
  {
   "cell_type": "markdown",
   "id": "8122a1e8",
   "metadata": {},
   "source": [
    "### Carga de datos\n",
    "\n",
    "Vamos a crean un conjunto de datos"
   ]
  },
  {
   "cell_type": "code",
   "execution_count": null,
   "id": "61342791",
   "metadata": {
    "lines_to_next_cell": 0
   },
   "outputs": [],
   "source": [
    "x = np.linspace(0, 10, 1000)\n",
    "y = np.sin(2 * x) * np.exp(-0.1 * x) + np.random.normal(scale=0.1, size=x.shape)\n",
    "print(x.shape)\n",
    "print(y.shape)"
   ]
  },
  {
   "cell_type": "code",
   "execution_count": null,
   "id": "bf8ebc70",
   "metadata": {},
   "outputs": [],
   "source": [
    "plt.plot(x, y)\n",
    "plt.xlabel(\"x\")\n",
    "plt.ylabel(\"y\")"
   ]
  },
  {
   "cell_type": "markdown",
   "id": "c9f82ba1",
   "metadata": {},
   "source": [
    "### Creación del Conjunto de datos\n",
    "\n",
    "De la misma forma que en el caso anterior, vamos a dividir el conjunto de datos en dos particiones de entrenamiento y de prueba."
   ]
  },
  {
   "cell_type": "code",
   "execution_count": null,
   "id": "e1a8e969",
   "metadata": {},
   "outputs": [],
   "source": [
    "X_train, X_test, y_train, y_test = train_test_split(x, y, test_size=0.3)\n",
    "X_train = X_train.reshape(-1, 1)\n",
    "X_test = X_test.reshape(-1, 1)\n",
    "print(X_train.shape)\n",
    "print(X_test.shape)\n",
    "print(y_train.shape)\n",
    "print(y_test.shape)"
   ]
  },
  {
   "cell_type": "markdown",
   "id": "22f1cb05",
   "metadata": {},
   "source": [
    "### Modelo de Machine Learning\n",
    "\n",
    "Primero, vamos a entrenar una red neuronal con sólo una variable de entrada:"
   ]
  },
  {
   "cell_type": "code",
   "execution_count": null,
   "id": "3986f627",
   "metadata": {},
   "outputs": [],
   "source": [
    "model = MLPRegressor((128, 128)) "
   ]
  },
  {
   "cell_type": "markdown",
   "id": "cc1b3617",
   "metadata": {},
   "source": [
    "Entrenamos el modelo"
   ]
  },
  {
   "cell_type": "code",
   "execution_count": null,
   "id": "3dec9734",
   "metadata": {},
   "outputs": [],
   "source": [
    "model.fit(X_train, y_train)"
   ]
  },
  {
   "cell_type": "markdown",
   "id": "24862d67",
   "metadata": {},
   "source": [
    "### Evaluación del modelo\n",
    "\n",
    "Veamos el comportamiento del modelo:"
   ]
  },
  {
   "cell_type": "code",
   "execution_count": null,
   "id": "f668936c",
   "metadata": {},
   "outputs": [],
   "source": [
    "plt.scatter(\n",
    "    X_test.flatten(),\n",
    "    y_test,\n",
    "    c=\"b\",\n",
    "    label=\"Original\",\n",
    "    alpha=0.3\n",
    ")\n",
    "plt.plot(\n",
    "    np.sort(X_test.flatten()),\n",
    "    model.predict(\n",
    "        np.sort(X_test, axis=0)\n",
    "    ),\n",
    "    \"r\", label=\"Predicho\"\n",
    ")\n",
    "plt.legend()\n",
    "plt.xlabel(\"x\")\n",
    "plt.ylabel(\"y\")"
   ]
  },
  {
   "cell_type": "markdown",
   "id": "e19d59ec",
   "metadata": {},
   "source": [
    "Podemos usar como métrica el coeficiente de indeterminación $r^2$ para determinar que tan bueno fue el desempeño."
   ]
  },
  {
   "cell_type": "code",
   "execution_count": null,
   "id": "4b6d0951",
   "metadata": {},
   "outputs": [],
   "source": [
    "r2_score(y_test, model.predict(X_test))"
   ]
  },
  {
   "cell_type": "markdown",
   "id": "cf016056",
   "metadata": {},
   "source": [
    "## Agrupamiento\n",
    "\n",
    "Ahora, veamos un ejemplo de aprendizaje no supervisado, es decir, no tenemos etiquetas $\\mathbf{y}$."
   ]
  },
  {
   "cell_type": "markdown",
   "id": "c9d9bc87",
   "metadata": {},
   "source": [
    "### Carga de datos\n",
    "\n",
    "Vamos a cargar una imagen en blanco y negro:"
   ]
  },
  {
   "cell_type": "code",
   "execution_count": null,
   "id": "f238b371",
   "metadata": {},
   "outputs": [],
   "source": [
    "im = face(gray=True).astype(\"float32\") / 255\n",
    "plt.imshow(im, \"gray\")\n",
    "plt.axis(\"off\")"
   ]
  },
  {
   "cell_type": "markdown",
   "id": "8af30de2",
   "metadata": {},
   "source": [
    "### Creación del Conjunto de Datos\n",
    "\n",
    "Vamos a crear un conjunto de datos a partir de esta imagen:"
   ]
  },
  {
   "cell_type": "code",
   "execution_count": null,
   "id": "c8f28c1f",
   "metadata": {},
   "outputs": [],
   "source": [
    "X = im.reshape(-1, 1)\n",
    "print(X.shape)"
   ]
  },
  {
   "cell_type": "markdown",
   "id": "47fe447b",
   "metadata": {},
   "source": [
    "### Modelo de Machine Learning\n",
    "\n",
    "Ahora, definimos un modelo de agrupamiento"
   ]
  },
  {
   "cell_type": "code",
   "execution_count": null,
   "id": "04d12184",
   "metadata": {},
   "outputs": [],
   "source": [
    "k = 3\n",
    "model = KMeans(n_clusters=k)"
   ]
  },
  {
   "cell_type": "markdown",
   "id": "240e675b",
   "metadata": {},
   "source": [
    "Entrenamos el modelo"
   ]
  },
  {
   "cell_type": "code",
   "execution_count": null,
   "id": "27f5eeaf",
   "metadata": {},
   "outputs": [],
   "source": [
    "model.fit(X)"
   ]
  },
  {
   "cell_type": "markdown",
   "id": "2f595c99",
   "metadata": {},
   "source": [
    "### Evaluación del modelo\n",
    "\n",
    "Veamos como son los grupos que encuentra el modelo:"
   ]
  },
  {
   "cell_type": "code",
   "execution_count": null,
   "id": "aaf2f917",
   "metadata": {},
   "outputs": [],
   "source": [
    "preds = model.predict(X)\n",
    "pred_im = preds.reshape(im.shape)"
   ]
  },
  {
   "cell_type": "code",
   "execution_count": null,
   "id": "df168b5d",
   "metadata": {},
   "outputs": [],
   "source": [
    "plt.figure(figsize=(10, 7))\n",
    "plt.subplot(121)\n",
    "plt.imshow(im, \"gray\")\n",
    "plt.axis(\"off\")\n",
    "plt.title(\"Original\")\n",
    "\n",
    "plt.subplot(122)\n",
    "plt.imshow(pred_im, cmap=\"rainbow\", interpolation='nearest')\n",
    "plt.axis(\"off\")\n",
    "plt.title(\"Grupos\")"
   ]
  }
 ],
 "metadata": {
  "jupytext": {
   "cell_metadata_filter": "-all",
   "main_language": "python",
   "notebook_metadata_filter": "-all"
  }
 },
 "nbformat": 4,
 "nbformat_minor": 5
}
