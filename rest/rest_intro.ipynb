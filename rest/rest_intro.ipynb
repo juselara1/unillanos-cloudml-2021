{
 "cells": [
  {
   "cell_type": "markdown",
   "id": "80c20a35",
   "metadata": {},
   "source": [
    "# Taller de Machine Learning en la Nube con Python - Introducción a REST\n",
    "**Juan S. Lara**\n",
    "\n",
    "*Universidad Nacional de Colombia*\n",
    "\n",
    "[julara@unal.edu.co]()\n",
    "\n",
    "<a href=\"https://github.com/juselara1\"><img src=\"https://mpng.subpng.com/20180326/gxq/kisspng-github-computer-icons-icon-design-github-5ab8a31e334e73.4114704215220498222102.jpg\" width=\"20\" align=\"left\"></a>\n",
    "<a href=\"https://www.linkedin.com/in/juan-sebastian-lara-ramirez-43570a214/\"><img src=\"https://image.flaticon.com/icons/png/512/174/174857.png\" width=\"20\" align=\"left\"></a>\n",
    "<a href=\"https://www.researchgate.net/profile/Juan-Lara-Ramirez\"><img src=\"https://user-images.githubusercontent.com/511683/28757557-f82cff1a-7585-11e7-9317-072a838dcca3.png\" width=\"20\" align=\"left\"></a>"
   ]
  },
  {
   "cell_type": "markdown",
   "id": "77edacaf",
   "metadata": {},
   "source": [
    "## ¿Qué es REST?\n",
    "\n",
    "Represantational Siate transfer (REST), se trata de un estilo de diseño de arquitectura de software que fue creado para diseñar y desarrollar en la World Wide Web (www). REST ha sido usado en la industria para crear web APIs escalables, seguras y confiables. \n",
    "\n",
    "Cuando una API sigue las restricciones REST se le conoce como RESTful, estas APIs generalmente utilizan métodos HTTP para acceder a recursos por medio de parámetros codificados en parámetros de URLs, JSON o XML.\n",
    "<img src=\"https://phpenthusiast.com/theme/assets/images/blog/what_is_rest_api.png\" width=\"500\">"
   ]
  },
  {
   "cell_type": "markdown",
   "id": "60f3dba6",
   "metadata": {},
   "source": [
    "## Propiedades de REST\n",
    "REST tiene algunas propiedades generales:\n",
    "\n",
    "* **Protocolo cliente/servidor**: cada mensaje HTTP contiene toda la información necesaria para completar una petición. Es decir, no hay necesidad de guardar información previa o mensajes anteriores.\n",
    "* **Operaciones bien definidas**: se utilizan una serie de operaciones como GET, POST, PUT y DELETE.\n",
    "* **Sintaxis universal**: esta sintaxis se utiliza para identificar los recursos, cada recurso se accede por medio de su URI.\n",
    "* **Uso de hipermedios**: la representación de la aplicación y de las transacciones se da típicamente en formato HTML o XML. Esto permite navegar recursos siguiendo enlaces sin requerir registros o elementos adicionales.\n",
    "\n",
    "En Python, existen diversas librerías para utilizar REST. Una de las mas usadas es `requests`\n",
    "\n",
    "**Nota**: para correr este notebook, debe ejecutar antes el código `main.py`."
   ]
  },
  {
   "cell_type": "code",
   "execution_count": null,
   "id": "1cbd0e1c",
   "metadata": {},
   "outputs": [],
   "source": [
    "import requests, cv2\n",
    "import matplotlib.pyplot as plt"
   ]
  },
  {
   "cell_type": "code",
   "execution_count": null,
   "id": "8cc580b9",
   "metadata": {
    "lines_to_next_cell": 0
   },
   "outputs": [],
   "source": []
  },
  {
   "cell_type": "markdown",
   "id": "d9ee7e17",
   "metadata": {},
   "source": [
    "Veamos como enviar una imagen como un `post` al api ejecutando en local con `flask`."
   ]
  },
  {
   "cell_type": "code",
   "execution_count": null,
   "id": "dfdb8b03",
   "metadata": {},
   "outputs": [],
   "source": [
    "im_original = cv2.imread(\"data/image.jpg\")\n",
    "files = {\"image\": open(\"data/image.jpg\", \"rb\")}\n",
    "r = requests.post(\n",
    "        \"http://localhost:5000/predict\",\n",
    "        files=files\n",
    "        )\n",
    "print(r.status_code)"
   ]
  },
  {
   "cell_type": "markdown",
   "id": "b8665a62",
   "metadata": {},
   "source": [
    "El resultado viene en formato binario, realicemos la decodificación:"
   ]
  },
  {
   "cell_type": "code",
   "execution_count": null,
   "id": "e3c8f829",
   "metadata": {},
   "outputs": [],
   "source": [
    "arr = np.frombuffer(r.content, np.uint8)\n",
    "im_res = cv2.imdecode(arr, cv2.IMREAD_ANYCOLOR)"
   ]
  },
  {
   "cell_type": "markdown",
   "id": "528a6bf3",
   "metadata": {},
   "source": [
    "Finalmente, comparemos las dos imágenes:"
   ]
  },
  {
   "cell_type": "code",
   "execution_count": null,
   "id": "292a6a31",
   "metadata": {},
   "outputs": [],
   "source": [
    "fig, ax = plt.subplots(1, 2, figsize=(15, 10))\n",
    "ax[0].imshow(im_original)\n",
    "ax[0].axis(\"off\")\n",
    "ax[0].set_title(\"Original\")\n",
    "ax[1].imshow(im_res)\n",
    "ax[1].axis(\"off\")\n",
    "ax[1].set_title(\"Resultado\")"
   ]
  }
 ],
 "metadata": {
  "jupytext": {
   "cell_metadata_filter": "-all",
   "main_language": "python",
   "notebook_metadata_filter": "-all"
  }
 },
 "nbformat": 4,
 "nbformat_minor": 5
}
