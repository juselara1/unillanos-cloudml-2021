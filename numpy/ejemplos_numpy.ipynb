{
 "cells": [
  {
   "cell_type": "markdown",
   "id": "682f366f",
   "metadata": {},
   "source": [
    "# Taller de Machine Learning en la Nube con Python - Ejemplos de Numpy \n",
    "**Juan S. Lara**\n",
    "\n",
    "*Universidad Nacional de Colombia*\n",
    "\n",
    "[julara@unal.edu.co]()\n",
    "\n",
    "<a href=\"https://github.com/juselara1\"><img src=\"https://mpng.subpng.com/20180326/gxq/kisspng-github-computer-icons-icon-design-github-5ab8a31e334e73.4114704215220498222102.jpg\" width=\"20\" align=\"left\"></a>\n",
    "<a href=\"https://www.linkedin.com/in/juan-sebastian-lara-ramirez-43570a214/\"><img src=\"https://image.flaticon.com/icons/png/512/174/174857.png\" width=\"20\" align=\"left\"></a>\n",
    "<a href=\"https://www.researchgate.net/profile/Juan-Lara-Ramirez\"><img src=\"https://user-images.githubusercontent.com/511683/28757557-f82cff1a-7585-11e7-9317-072a838dcca3.png\" width=\"20\" align=\"left\"></a>"
   ]
  },
  {
   "cell_type": "code",
   "execution_count": null,
   "id": "edf7d467",
   "metadata": {},
   "outputs": [],
   "source": [
    "import numpy as np\n",
    "import matplotlib.pyplot as plt # Librería para visualización, la veremos más adelante\n",
    "%matplotlib inline"
   ]
  },
  {
   "cell_type": "markdown",
   "id": "7b256e52",
   "metadata": {},
   "source": [
    "## Sistemas de Ecuaciones Lineales\n",
    "Supongamos que tenemos el siguiente sistema de ecuaciones lineales:\n",
    "\n",
    "$$\n",
    "a_1 x + b_1 y + c_1 z = d_1\\\\\n",
    "a_2 x + b_2 y + c_2 z = d_2\\\\\n",
    "a_3 x + b_3 y + c_3 z = d_3\n",
    "$$\n",
    "\n",
    "Donde $\\{x, y, z\\}$ son las variables a determinar. Esto se puede reescribir de la siguiente forma:\n",
    "\n",
    "$$\\mathbf{A}\\mathbf{x} = \\mathbf{y}$$\n",
    "\n",
    "Es decir:\n",
    "$$\n",
    "\\mathbf{A} = \\left(\\begin{matrix}\n",
    "  a_1 & b_1 & c_1\\\\\n",
    "  a_2 & b_2 & c_2\\\\\n",
    "  a_3 & b_3 & c_3\n",
    "  \\end{matrix}\\right)\\\\\n",
    "\\mathbf{x} = \\left(\\begin{matrix}\n",
    "  x\\\\\n",
    "  y\\\\\n",
    "  z\\\\\n",
    "  \\end{matrix}\\right)\\\\\n",
    "\\mathbf{y} = \\left(\\begin{matrix}\n",
    "  d_1\\\\\n",
    "  d_2\\\\\n",
    "  d_3\\\\\n",
    "  \\end{matrix}\\right)\n",
    "$$\n",
    "\n",
    "Si resolvemos la ecuación:\n",
    "\n",
    "$$\n",
    "\\mathbf{x} = \\mathbf{A}^{-1}\\mathbf{y}\n",
    "$$"
   ]
  },
  {
   "cell_type": "markdown",
   "id": "61d2ac11",
   "metadata": {},
   "source": [
    "Ahora solucionemos el siguiente sistema de ecuaciones:\n",
    "$$\n",
    "3x + 2y + z = 0\\\\\n",
    "-2x + 4y + 2z = 2\\\\\n",
    "5x + 10y + 20z = 3 \n",
    "$$\n",
    "Comenzaremos creando los arreglos $\\mathbf{A}$ e $\\mathbf{y}$:"
   ]
  },
  {
   "cell_type": "code",
   "execution_count": null,
   "id": "68e7bccf",
   "metadata": {},
   "outputs": [],
   "source": [
    "A = np.array([\n",
    "    [3, 2, 1],\n",
    "    [-2, 4, 2],\n",
    "    [5, 10, 20]\n",
    "    ])\n",
    "y = np.array([\n",
    "    [0],\n",
    "    [2],\n",
    "    [3]\n",
    "    ])"
   ]
  },
  {
   "cell_type": "markdown",
   "id": "7aefc132",
   "metadata": {},
   "source": [
    "Veamos la solución:"
   ]
  },
  {
   "cell_type": "code",
   "execution_count": null,
   "id": "cbe799cd",
   "metadata": {},
   "outputs": [],
   "source": [
    "x = np.linalg.inv(A) @ y\n",
    "print(x)"
   ]
  },
  {
   "cell_type": "markdown",
   "id": "f52aa40f",
   "metadata": {
    "lines_to_next_cell": 0
   },
   "source": [
    "## Regresión Lineal\n",
    "La regresión lineal es un problema en el que se busca ajustar una función que mejor describa la relación lineal entre dos conjuntos de variables: *dependientes* ($\\mathbf{y}$) e *independientes* ($\\mathbf{x}$).\n",
    "\n",
    "El problema en la regresión lineal es que hay cierta cantidad de ruido $\\epsilon$, por lo que hay que encontrar la mejor recta capture dicha relación entre variables.\n",
    "\n",
    "Primero, comenzamos definiendo un conjunto de parámetros $\\mathbf{w}$ y unos valores estimados o predicciones $\\hat{\\mathbf{y}}$:\n",
    "\n",
    "$$\n",
    "\\hat{\\mathbf{y}} = \\mathbf{X} \\mathbf{w}\n",
    "$$\n",
    "\n",
    "En este caso, el problema consiste en encontrar el vector de parámetros $\\mathbf{w} \\in \\mathbb{R}^{m \\times 1}$ a partir de observaciones compuestas por $\\mathbf{X} \\in \\mathbb{R}^{N \\times m}$ variables dependientes y $\\mathbf{y} \\in \\mathbb{R}^{N \\times 1}$ variables dependientes.\n",
    "\n",
    "Comencemos cargando unos datos:\n",
    "**Puede descargarlos corriendo el siguiente comando**\n",
    "```python\n",
    "!wget https://raw.githubusercontent.com/juselara1/unillanos-cloudml-2021/main/numpy/data/reg.npy\n",
    "```"
   ]
  },
  {
   "cell_type": "code",
   "execution_count": null,
   "id": "bdf0f590",
   "metadata": {},
   "outputs": [],
   "source": [
    "data = np.load(\"data/reg.npy\", allow_pickle=True)\n",
    "X = data.item()[\"x\"]\n",
    "y = data.item()[\"y\"]\n",
    "print(X.shape)\n",
    "print(y.shape)"
   ]
  },
  {
   "cell_type": "markdown",
   "id": "ddf2a729",
   "metadata": {},
   "source": [
    "Veamos como se ven estos datos:"
   ]
  },
  {
   "cell_type": "code",
   "execution_count": null,
   "id": "6df368b4",
   "metadata": {},
   "outputs": [],
   "source": [
    "plt.plot(X.flatten(), y.flatten())\n",
    "plt.xlabel(\"Temperatura\")\n",
    "plt.ylabel(\"Presión\")"
   ]
  },
  {
   "cell_type": "markdown",
   "id": "5f9e8509",
   "metadata": {},
   "source": [
    "Ahora veamos como determinar los parámetros $\\mathbf{w}$. Comenzaremos definiendo la relación entre las variables independientes $\\mathbf{y}$ y las predicciones $\\hat{\\mathbf{y}}$:\n",
    "\n",
    "$$\n",
    "\\mathbf{y} = \\hat{\\mathbf{y}} + \\epsilon\n",
    "$$\n",
    "\n",
    "En este caso $\\epsilon$ corresponde a una variable aleatoria que captura el error entre los valores observados $\\mathbf{y}$ y los predichos $\\hat{\\mathbf{y}}$. En este caso supondremos que el ruido tiene una distribución normal $\\epsilon \\sim N(0, \\sigma^2)$ y buscaremos minimizar su magnitud:\n",
    "\n",
    "$$\n",
    "\\mathbf{w} = \\underset{\\mathbf{w}}{\\text{argmin}}{||\\epsilon||^2}\\\\\n",
    "\\mathbf{w} = \\underset{\\mathbf{w}}{\\text{argmin}}{||\\mathbf{y} - \\hat{\\mathbf{y}}||^2}\n",
    "$$\n",
    "\n",
    "Al minimizar (derivar) esta función, obtendremos:\n",
    "\n",
    "$$\n",
    "\\mathbf{w} = (\\mathbf{X}^T \\mathbf{X})^{-1} \\mathbf{X}^T \\mathbf{y}\n",
    "$$\n",
    "\n",
    "Veamos esta solución en numpy:"
   ]
  },
  {
   "cell_type": "code",
   "execution_count": null,
   "id": "cf5788f8",
   "metadata": {},
   "outputs": [],
   "source": [
    "w = np.linalg.inv(X.T @ X) @ X.T @ y\n",
    "print(w)"
   ]
  },
  {
   "cell_type": "markdown",
   "id": "186880de",
   "metadata": {},
   "source": [
    "Veamos el resultado:"
   ]
  },
  {
   "cell_type": "code",
   "execution_count": null,
   "id": "c06d45e5",
   "metadata": {},
   "outputs": [],
   "source": [
    "y_hat = X @ w\n",
    "plt.plot(X.flatten(), y.flatten(), label=\"Observaciones\")\n",
    "plt.plot(X.flatten(), y_hat.flatten(), label=\"Predicciones\")\n",
    "plt.legend()"
   ]
  },
  {
   "cell_type": "markdown",
   "id": "1950ed95",
   "metadata": {},
   "source": [
    "El resultado se ve bastante bien, no obstante puede mejorar si incluimos un parámetro de intercepto. Para no modificar mucho el procedimiento matemático agregaremos una columna de unos en la matriz $\\mathbf{X}$.\n",
    "\n",
    "**¿Por qué agregar una columna de unos es igual a considerar un intercepto?**"
   ]
  },
  {
   "cell_type": "code",
   "execution_count": null,
   "id": "bd4e0b0a",
   "metadata": {},
   "outputs": [],
   "source": [
    "X_intercept = np.hstack([X, np.ones_like(X)])\n",
    "print(X_intercept[:5])\n",
    "print(X_intercept.shape)"
   ]
  },
  {
   "cell_type": "markdown",
   "id": "d505fa8c",
   "metadata": {},
   "source": [
    "Miremos el resultado con este cambio:"
   ]
  },
  {
   "cell_type": "code",
   "execution_count": null,
   "id": "cfb3f9ad",
   "metadata": {},
   "outputs": [],
   "source": [
    "w_2 = np.linalg.inv(X_intercept.T @ X_intercept) @ X_intercept.T @ y"
   ]
  },
  {
   "cell_type": "code",
   "execution_count": null,
   "id": "d94fe78e",
   "metadata": {},
   "outputs": [],
   "source": [
    "y_hat2 = X_intercept @ w_2\n",
    "plt.plot(X.flatten(), y.flatten(), label=\"Observaciones\")\n",
    "plt.plot(X.flatten(), y_hat.flatten(), label=\"Predicciones\")\n",
    "plt.plot(X.flatten(), y_hat2.flatten(), label=\"Predicciones con intercepto\")\n",
    "plt.legend()"
   ]
  }
 ],
 "metadata": {
  "jupytext": {
   "cell_metadata_filter": "-all",
   "main_language": "python",
   "notebook_metadata_filter": "-all"
  }
 },
 "nbformat": 4,
 "nbformat_minor": 5
}
