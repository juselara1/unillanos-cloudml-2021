{
 "cells": [
  {
   "cell_type": "markdown",
   "id": "82f9e531",
   "metadata": {},
   "source": [
    "# Taller de Machine Learning en la Nube con Python - Introducción a Numpy\n",
    "**Juan S. Lara**\n",
    "\n",
    "*Universidad Nacional de Colombia*\n",
    "\n",
    "[julara@unal.edu.co]()\n",
    "\n",
    "<a href=\"https://github.com/juselara1\"><img src=\"https://mpng.subpng.com/20180326/gxq/kisspng-github-computer-icons-icon-design-github-5ab8a31e334e73.4114704215220498222102.jpg\" width=\"20\" align=\"left\"></a>\n",
    "<a href=\"https://www.linkedin.com/in/juan-sebastian-lara-ramirez-43570a214/\"><img src=\"https://image.flaticon.com/icons/png/512/174/174857.png\" width=\"20\" align=\"left\"></a>\n",
    "<a href=\"https://www.researchgate.net/profile/Juan-Lara-Ramirez\"><img src=\"https://user-images.githubusercontent.com/511683/28757557-f82cff1a-7585-11e7-9317-072a838dcca3.png\" width=\"20\" align=\"left\"></a>"
   ]
  },
  {
   "cell_type": "markdown",
   "id": "38fad6d9",
   "metadata": {},
   "source": [
    "## ¿Que es Numpy?\n",
    "\n",
    "Numpy es una librería de álgebra lineal para Python que permite la manipulación de vectores, matrices y arreglos multidimensionales. Está escrito principalmente en C y en Python, lo que permite una gran velocidad de cómputo con la elegante sintaxis de Python.\n",
    "\n",
    "<img src=\"https://miro.medium.com/max/765/1*cyXCE-JcBelTyrK-58w6_Q.png\" width=\"400\">\n",
    "\n",
    "Numpy se puede instalar con `pip`:\n",
    "\n",
    "```\n",
    "pip install numpy\n",
    "```\n",
    "\n",
    "Comencemos importando la librería, por convención le pondremos el alias `np`."
   ]
  },
  {
   "cell_type": "code",
   "execution_count": null,
   "id": "a7cb5f74",
   "metadata": {},
   "outputs": [],
   "source": [
    "import numpy as np"
   ]
  },
  {
   "cell_type": "markdown",
   "id": "9248712a",
   "metadata": {},
   "source": [
    "## Arreglos Multidimensionales\n",
    "\n",
    "Los arreglos multidimensionales son la estructura de datos base en Numpy, se trata de un tipo de datos que permite representar tensores. Los tensores son una forma general de estructuras matemáticas como:\n",
    "\n",
    "<img src=\"http://www.sr-sv.com/wp-content/uploads/2019/08/Tensor_01.jpg\" width=\"400\">\n",
    "\n",
    "* Tensor rango 0: Escalares $\\mathbb{R}^1$.\n",
    "* Tensor rango 1: Vectores $\\mathbb{R}^n$.\n",
    "* Tensor rango 2: Matriz $\\mathbb{R}^{n \\times m}$.\n",
    "* Tensor rango d: Arreglo multidimensional $\\mathbb{R}^{n_1 \\times n_2 \\times \\dots n_d}$.\n",
    "\n",
    "Un arreglo multidimensional se define de la siguiente forma:"
   ]
  },
  {
   "cell_type": "code",
   "execution_count": null,
   "id": "58cfeaf7",
   "metadata": {},
   "outputs": [],
   "source": [
    "X = np.array([\n",
    "    [10, 10],\n",
    "    [15, 5]\n",
    "    ]) # vector de dimensión 2\n",
    "X"
   ]
  },
  {
   "cell_type": "markdown",
   "id": "3449006c",
   "metadata": {},
   "source": [
    "Los arreglos de numpy tienen distintos atributos, como:"
   ]
  },
  {
   "cell_type": "code",
   "execution_count": null,
   "id": "1896551c",
   "metadata": {},
   "outputs": [],
   "source": [
    "print(f\"tamaño {X.size}\")\n",
    "print(f\"forma {X.shape}\")\n",
    "print(f\"tipo {X.dtype}\")"
   ]
  },
  {
   "cell_type": "markdown",
   "id": "3d4f6e9c",
   "metadata": {},
   "source": [
    "## Métodos de los Arreglos\n",
    "Existen algunos métodos importantes que nos permiten manipular internamente cada arreglo, veamos algunos ejemplos:\n",
    "* Cambio de forma:"
   ]
  },
  {
   "cell_type": "code",
   "execution_count": null,
   "id": "c6aedde2",
   "metadata": {},
   "outputs": [],
   "source": [
    "X_2 = X.reshape((1, 4)) # pasamos de (2, 2) a (1, 4)\n",
    "print(\"Antes:\")\n",
    "print(X)\n",
    "print(X.shape)\n",
    "print(\"Después de reshape:\")\n",
    "print(X_2)\n",
    "print(X_2.shape)"
   ]
  },
  {
   "cell_type": "markdown",
   "id": "37d99625",
   "metadata": {},
   "source": [
    "* Cambio de tipo:"
   ]
  },
  {
   "cell_type": "code",
   "execution_count": null,
   "id": "68f2af99",
   "metadata": {},
   "outputs": [],
   "source": [
    "X_f = X.astype(np.float32)\n",
    "print(\"Antes:\")\n",
    "print(X)\n",
    "print(X.dtype)\n",
    "print(\"Después:\")\n",
    "print(X_f)\n",
    "print(X_f.dtype)"
   ]
  },
  {
   "cell_type": "markdown",
   "id": "d33d8fc0",
   "metadata": {},
   "source": [
    "* Transpuesto de una matriz:"
   ]
  },
  {
   "cell_type": "code",
   "execution_count": null,
   "id": "d98e4457",
   "metadata": {},
   "outputs": [],
   "source": [
    "X_t = X.T\n",
    "print(\"Antes:\")\n",
    "print(X)\n",
    "print(\"Después:\")\n",
    "print(X_t)"
   ]
  },
  {
   "cell_type": "markdown",
   "id": "c97d835d",
   "metadata": {},
   "source": [
    "* Aplanamiento:"
   ]
  },
  {
   "cell_type": "code",
   "execution_count": null,
   "id": "7144f623",
   "metadata": {},
   "outputs": [],
   "source": [
    "X_flat = X.flatten()\n",
    "print(\"Antes:\")\n",
    "print(X)\n",
    "print(X.shape)\n",
    "print(\"Después:\")\n",
    "print(X_flat)\n",
    "print(X_flat.shape)"
   ]
  },
  {
   "cell_type": "markdown",
   "id": "0dce5503",
   "metadata": {},
   "source": [
    "## Creación de Arreglos\n",
    "Existen diversas formas de crear arreglos de numpy. Veamos algunos ejemplos.\n",
    "* A partir de listas en Python:"
   ]
  },
  {
   "cell_type": "code",
   "execution_count": null,
   "id": "5332d318",
   "metadata": {},
   "outputs": [],
   "source": [
    "X = np.array([1.0, 3.4])\n",
    "print(X)"
   ]
  },
  {
   "cell_type": "markdown",
   "id": "2a7fd950",
   "metadata": {},
   "source": [
    "* Constantes:"
   ]
  },
  {
   "cell_type": "code",
   "execution_count": null,
   "id": "f51b51e7",
   "metadata": {},
   "outputs": [],
   "source": [
    "# arreglo de unos\n",
    "X = np.ones(\n",
    "        shape=(3, 3),\n",
    "        dtype=np.float64\n",
    "        )\n",
    "print(X)"
   ]
  },
  {
   "cell_type": "code",
   "execution_count": null,
   "id": "f97e596b",
   "metadata": {},
   "outputs": [],
   "source": [
    "# arreglo de ceros\n",
    "X = np.zeros(\n",
    "        shape=(2, 4),\n",
    "        dtype=np.bool8\n",
    "        )\n",
    "print(X)"
   ]
  },
  {
   "cell_type": "code",
   "execution_count": null,
   "id": "72b0dce1",
   "metadata": {},
   "outputs": [],
   "source": [
    "# arreglo de números aleatorios\n",
    "X = np.random.uniform(\n",
    "        low=0, high=1,\n",
    "        size=(5, 3)\n",
    "        )\n",
    "print(X)"
   ]
  },
  {
   "cell_type": "markdown",
   "id": "e7de9a6b",
   "metadata": {},
   "source": [
    "## Indexado de Arreglos\n",
    "Uno de los elementos clave en numpy es la indexación. Se trata de un método para seleccionar elementos dentro de los arreglos a través de slices o cortes.\n",
    "\n",
    "Veamos algunos ejemplos.\n",
    "\n",
    "* Selección de un elemento $X_{ij}$:"
   ]
  },
  {
   "cell_type": "code",
   "execution_count": null,
   "id": "7feae546",
   "metadata": {},
   "outputs": [],
   "source": [
    "X = np.array([\n",
    "    [1, 2, 3],\n",
    "    [4, 5, 6],\n",
    "    [7, 8, 9]\n",
    "    ])\n",
    "print(X[0, 1]) # Elemento de la fila 0, columna 1"
   ]
  },
  {
   "cell_type": "markdown",
   "id": "703e974d",
   "metadata": {},
   "source": [
    "* Selección de la fila 2:"
   ]
  },
  {
   "cell_type": "code",
   "execution_count": null,
   "id": "9794100e",
   "metadata": {},
   "outputs": [],
   "source": [
    "print(X[2, :])"
   ]
  },
  {
   "cell_type": "markdown",
   "id": "04a58681",
   "metadata": {},
   "source": [
    "* Selección de la columna 1:"
   ]
  },
  {
   "cell_type": "code",
   "execution_count": null,
   "id": "183bd87e",
   "metadata": {},
   "outputs": [],
   "source": [
    "print(X[:, 1])"
   ]
  },
  {
   "cell_type": "markdown",
   "id": "283c93ef",
   "metadata": {},
   "source": [
    "* Selección de los elementos entre las filas 0 y 1, y las columnas 1 y 2:"
   ]
  },
  {
   "cell_type": "code",
   "execution_count": null,
   "id": "a32e0a15",
   "metadata": {},
   "outputs": [],
   "source": [
    "print(X[:2, 1:])"
   ]
  },
  {
   "cell_type": "markdown",
   "id": "b446d2bb",
   "metadata": {},
   "source": [
    "## Operaciones con Arreglos\n",
    "Numpy nos permite realizar distintos tipos de operaciones con arreglos, incluyendo sumas, promedios, productorias, entre otros. Veamos las operaciones de agregación generales:\n",
    "\n",
    "* Sumas"
   ]
  },
  {
   "cell_type": "code",
   "execution_count": null,
   "id": "616b106d",
   "metadata": {},
   "outputs": [],
   "source": [
    "print(X.sum()) # suma de todos los elementos en el arreglo"
   ]
  },
  {
   "cell_type": "code",
   "execution_count": null,
   "id": "bbcdda18",
   "metadata": {},
   "outputs": [],
   "source": [
    "print(X.sum(axis=0)) # suma por columnas"
   ]
  },
  {
   "cell_type": "code",
   "execution_count": null,
   "id": "14d02d60",
   "metadata": {},
   "outputs": [],
   "source": [
    "print(X.sum(axis=1)) # suma por filas"
   ]
  },
  {
   "cell_type": "markdown",
   "id": "222a8e2f",
   "metadata": {},
   "source": [
    "* Promedios"
   ]
  },
  {
   "cell_type": "code",
   "execution_count": null,
   "id": "eebf2d54",
   "metadata": {},
   "outputs": [],
   "source": [
    "print(X.mean()) # promedio de todos los elementos"
   ]
  },
  {
   "cell_type": "code",
   "execution_count": null,
   "id": "b909d577",
   "metadata": {},
   "outputs": [],
   "source": [
    "print(X.mean(axis=0)) # promedio por columna"
   ]
  },
  {
   "cell_type": "code",
   "execution_count": null,
   "id": "d1449f64",
   "metadata": {},
   "outputs": [],
   "source": [
    "print(X.mean(axis=1)) # promedio por filas"
   ]
  },
  {
   "cell_type": "markdown",
   "id": "224a305c",
   "metadata": {},
   "source": [
    "* Desviación estándar"
   ]
  },
  {
   "cell_type": "code",
   "execution_count": null,
   "id": "e0f41117",
   "metadata": {},
   "outputs": [],
   "source": [
    "print(X.std()) # desviación estándar de todos los elementos"
   ]
  },
  {
   "cell_type": "code",
   "execution_count": null,
   "id": "af475db4",
   "metadata": {},
   "outputs": [],
   "source": [
    "print(X.std(axis=0)) # desviación estándar por columna"
   ]
  },
  {
   "cell_type": "code",
   "execution_count": null,
   "id": "4cd39cc8",
   "metadata": {},
   "outputs": [],
   "source": [
    "print(X.std(axis=1)) # desviación estándar por fila"
   ]
  },
  {
   "cell_type": "markdown",
   "id": "202ab7ed",
   "metadata": {},
   "source": [
    "* Operaciones algebraicas"
   ]
  },
  {
   "cell_type": "code",
   "execution_count": null,
   "id": "93ef529e",
   "metadata": {},
   "outputs": [],
   "source": [
    "X = np.array([\n",
    "    [2, -1],\n",
    "    [1, 3]\n",
    "    ])\n",
    "print(np.linalg.inv(X)) # inverso de una matriz."
   ]
  },
  {
   "cell_type": "code",
   "execution_count": null,
   "id": "d78e1d95",
   "metadata": {},
   "outputs": [],
   "source": [
    "print(np.linalg.eig(X)) # valores y vectores propios."
   ]
  },
  {
   "cell_type": "code",
   "execution_count": null,
   "id": "79582155",
   "metadata": {},
   "outputs": [],
   "source": [
    "print(np.linalg.det(X)) # determinante de la matriz."
   ]
  },
  {
   "cell_type": "code",
   "execution_count": null,
   "id": "b48c05c3",
   "metadata": {},
   "outputs": [],
   "source": [
    "print(np.linalg.matrix_rank(X)) # rango de una matriz"
   ]
  },
  {
   "cell_type": "markdown",
   "id": "35085b8c",
   "metadata": {},
   "source": [
    "## Operaciones entre Arreglos\n",
    "También podemos realizar operaciones entre distintos arreglos."
   ]
  },
  {
   "cell_type": "code",
   "execution_count": null,
   "id": "0d70e09d",
   "metadata": {},
   "outputs": [],
   "source": [
    "X = np.random.randint(10, size=(5, 5))\n",
    "Y = np.random.randint(10, size=(5, 5))"
   ]
  },
  {
   "cell_type": "code",
   "execution_count": null,
   "id": "27a59502",
   "metadata": {},
   "outputs": [],
   "source": [
    "print(X + Y) # suma de matrices"
   ]
  },
  {
   "cell_type": "code",
   "execution_count": null,
   "id": "eb073099",
   "metadata": {},
   "outputs": [],
   "source": [
    "print(X - Y) # resta de matrices"
   ]
  },
  {
   "cell_type": "code",
   "execution_count": null,
   "id": "abe61a9b",
   "metadata": {},
   "outputs": [],
   "source": [
    "print(X * Y) # producto elemento a elemento"
   ]
  },
  {
   "cell_type": "code",
   "execution_count": null,
   "id": "fd1a3be2",
   "metadata": {},
   "outputs": [],
   "source": [
    "print(X @ Y) # producto matricial"
   ]
  },
  {
   "cell_type": "code",
   "execution_count": null,
   "id": "f0f95bc0",
   "metadata": {},
   "outputs": [],
   "source": [
    "print(X / Y) # división elemento a elemento"
   ]
  }
 ],
 "metadata": {
  "jupytext": {
   "cell_metadata_filter": "-all",
   "main_language": "python",
   "notebook_metadata_filter": "-all"
  }
 },
 "nbformat": 4,
 "nbformat_minor": 5
}
