{
 "cells": [
  {
   "cell_type": "markdown",
   "id": "49f19113",
   "metadata": {},
   "source": [
    "# Taller de Machine Learning en la Nube con Python - Introducción a Numpy\n",
    "**Juan S. Lara**\n",
    "\n",
    "*Universidad Nacional de Colombia*\n",
    "\n",
    "[julara@unal.edu.co]()\n",
    "\n",
    "<a href=\"https://github.com/juselara1\"><img src=\"https://mpng.subpng.com/20180326/gxq/kisspng-github-computer-icons-icon-design-github-5ab8a31e334e73.4114704215220498222102.jpg\" width=\"20\" align=\"left\"></a>\n",
    "<a href=\"https://www.linkedin.com/in/juan-sebastian-lara-ramirez-43570a214/\"><img src=\"https://image.flaticon.com/icons/png/512/174/174857.png\" width=\"20\" align=\"left\"></a>\n",
    "<a href=\"https://www.researchgate.net/profile/Juan-Lara-Ramirez\"><img src=\"https://user-images.githubusercontent.com/511683/28757557-f82cff1a-7585-11e7-9317-072a838dcca3.png\" width=\"20\" align=\"left\"></a>"
   ]
  },
  {
   "cell_type": "markdown",
   "id": "da29f47b",
   "metadata": {},
   "source": [
    "## ¿Que es Numpy?\n",
    "\n",
    "Numpy es una librería de álgebra lineal para Python que permite la manipulación de vectores, matrices y arreglos multidimensionales. Está escrito principalmente en C y en Python, lo que permite una gran velocidad de cómputo con la elegante sintaxis de Python.\n",
    "\n",
    "<img src=\"https://miro.medium.com/max/765/1*cyXCE-JcBelTyrK-58w6_Q.png\" width=\"400\">\n",
    "\n",
    "Numpy se puede instalar con `pip`:\n",
    "\n",
    "```\n",
    "pip install numpy\n",
    "```\n",
    "\n",
    "Comencemos importando la librería, por convención le pondremos el alias `np`."
   ]
  },
  {
   "cell_type": "code",
   "execution_count": null,
   "id": "dbc86a63",
   "metadata": {},
   "outputs": [],
   "source": [
    "import numpy as np"
   ]
  },
  {
   "cell_type": "markdown",
   "id": "3f01ea11",
   "metadata": {},
   "source": [
    "## Arreglos Multidimensionales\n",
    "\n",
    "Los arreglos multidimensionales son la estructura de datos base en Numpy, se trata de un tipo de datos que permite representar tensores. Los tensores son una forma general de estructuras matemáticas como:\n",
    "\n",
    "<img src=\"http://www.sr-sv.com/wp-content/uploads/2019/08/Tensor_01.jpg\" width=\"400\">\n",
    "\n",
    "* Tensor rango 0: Escalares $\\mathbb{R}^1$.\n",
    "* Tensor rango 1: Vectores $\\mathbb{R}^n$.\n",
    "* Tensor rango 2: Matriz $\\mathbb{R}^{n \\times m}$.\n",
    "* Tensor rango d: Arreglo multidimensional $\\mathbb{R}^{n_1 \\times n_2 \\times \\dots n_d}$.\n",
    "\n",
    "Un arreglo multidimensional se define de la siguiente forma:"
   ]
  },
  {
   "cell_type": "code",
   "execution_count": null,
   "id": "5015f4d3",
   "metadata": {},
   "outputs": [],
   "source": [
    "X = np.array([\n",
    "    [10, 10],\n",
    "    [15, 5]\n",
    "    ]) # vector de dimensión 2\n",
    "X"
   ]
  },
  {
   "cell_type": "markdown",
   "id": "78e1da3a",
   "metadata": {},
   "source": [
    "Los arreglos de numpy tienen distintos atributos, como:"
   ]
  },
  {
   "cell_type": "code",
   "execution_count": null,
   "id": "cfe51ed9",
   "metadata": {},
   "outputs": [],
   "source": [
    "print(f\"tamaño {X.size}\")\n",
    "print(f\"forma {X.shape}\")\n",
    "print(f\"tipo {X.dtype}\")"
   ]
  },
  {
   "cell_type": "markdown",
   "id": "f2a1e0b0",
   "metadata": {},
   "source": [
    "## Métodos de los Arreglos\n",
    "Existen algunos métodos importantes que nos permiten manipular internamente cada arreglo, veamos algunos ejemplos:\n",
    "* Cambio de forma:"
   ]
  },
  {
   "cell_type": "code",
   "execution_count": null,
   "id": "c5d81d0e",
   "metadata": {},
   "outputs": [],
   "source": [
    "X_2 = X.reshape((1, 4)) # pasamos de (2, 2) a (1, 4)\n",
    "print(\"Antes:\")\n",
    "print(X)\n",
    "print(X.shape)\n",
    "print(\"Después de reshape:\")\n",
    "print(X_2)\n",
    "print(X_2.shape)"
   ]
  },
  {
   "cell_type": "markdown",
   "id": "393b2437",
   "metadata": {},
   "source": [
    "* Cambio de tipo:"
   ]
  },
  {
   "cell_type": "code",
   "execution_count": null,
   "id": "0e8c0d89",
   "metadata": {},
   "outputs": [],
   "source": [
    "X_f = X.astype(np.float32)\n",
    "print(\"Antes:\")\n",
    "print(X)\n",
    "print(X.dtype)\n",
    "print(\"Después:\")\n",
    "print(X_f)\n",
    "print(X_f.dtype)"
   ]
  },
  {
   "cell_type": "markdown",
   "id": "4d19a298",
   "metadata": {},
   "source": [
    "* Transpuesto de una matriz:"
   ]
  },
  {
   "cell_type": "code",
   "execution_count": null,
   "id": "33350983",
   "metadata": {},
   "outputs": [],
   "source": [
    "X_t = X.T\n",
    "print(\"Antes:\")\n",
    "print(X)\n",
    "print(\"Después:\")\n",
    "print(X_t)"
   ]
  },
  {
   "cell_type": "markdown",
   "id": "c54b1dad",
   "metadata": {},
   "source": [
    "* Aplanamiento:"
   ]
  },
  {
   "cell_type": "code",
   "execution_count": null,
   "id": "eac3f35a",
   "metadata": {},
   "outputs": [],
   "source": [
    "X_flat = X.flatten()\n",
    "print(\"Antes:\")\n",
    "print(X)\n",
    "print(X.shape)\n",
    "print(\"Después:\")\n",
    "print(X_flat)\n",
    "print(X_flat.shape)"
   ]
  },
  {
   "cell_type": "markdown",
   "id": "4d7e7507",
   "metadata": {},
   "source": [
    "## Creación de Arreglos\n",
    "Existen diversas formas de crear arreglos de numpy. Veamos algunos ejemplos.\n",
    "* A partir de listas en Python:"
   ]
  },
  {
   "cell_type": "code",
   "execution_count": null,
   "id": "aea703ab",
   "metadata": {},
   "outputs": [],
   "source": [
    "X = np.array([1.0, 3.4])\n",
    "print(X)"
   ]
  },
  {
   "cell_type": "markdown",
   "id": "7cfec092",
   "metadata": {},
   "source": [
    "* Constantes:"
   ]
  },
  {
   "cell_type": "code",
   "execution_count": null,
   "id": "06ad5315",
   "metadata": {},
   "outputs": [],
   "source": [
    "# arreglo de unos\n",
    "X = np.ones(\n",
    "        shape=(3, 3),\n",
    "        dtype=np.float64\n",
    "        )\n",
    "print(X)"
   ]
  },
  {
   "cell_type": "code",
   "execution_count": null,
   "id": "e879afbe",
   "metadata": {},
   "outputs": [],
   "source": [
    "# arreglo de ceros\n",
    "X = np.zeros(\n",
    "        shape=(2, 4),\n",
    "        dtype=np.bool8\n",
    "        )\n",
    "print(X)"
   ]
  },
  {
   "cell_type": "code",
   "execution_count": null,
   "id": "07541621",
   "metadata": {},
   "outputs": [],
   "source": [
    "# arreglo de números aleatorios\n",
    "X = np.random.uniform(\n",
    "        low=0, high=1,\n",
    "        size=(5, 3)\n",
    "        )\n",
    "print(X)"
   ]
  },
  {
   "cell_type": "markdown",
   "id": "706484de",
   "metadata": {},
   "source": [
    "## Indexado de Arreglos\n",
    "Uno de los elementos clave en numpy es la indexación. Se trata de un método para seleccionar elementos dentro de los arreglos a través de slices o cortes.\n",
    "\n",
    "Veamos algunos ejemplos.\n",
    "\n",
    "* Selección de un elemento $X_{ij}$:"
   ]
  },
  {
   "cell_type": "code",
   "execution_count": null,
   "id": "16df1cc6",
   "metadata": {},
   "outputs": [],
   "source": [
    "X = np.array([\n",
    "    [1, 2, 3],\n",
    "    [4, 5, 6],\n",
    "    [7, 8, 9]\n",
    "    ])\n",
    "print(X[0, 1]) # Elemento de la fila 0, columna 1"
   ]
  },
  {
   "cell_type": "markdown",
   "id": "322c465d",
   "metadata": {},
   "source": [
    "* Selección de la fila 2:"
   ]
  },
  {
   "cell_type": "code",
   "execution_count": null,
   "id": "b27f661b",
   "metadata": {},
   "outputs": [],
   "source": [
    "print(X[2, :])"
   ]
  },
  {
   "cell_type": "markdown",
   "id": "a617cd4a",
   "metadata": {},
   "source": [
    "* Selección de la columna 1:"
   ]
  },
  {
   "cell_type": "code",
   "execution_count": null,
   "id": "bc4e200b",
   "metadata": {},
   "outputs": [],
   "source": [
    "print(X[:, 1])"
   ]
  },
  {
   "cell_type": "markdown",
   "id": "85cef035",
   "metadata": {},
   "source": [
    "* Selección de los elementos entre las filas 0 y 1, y las columnas 1 y 2:"
   ]
  },
  {
   "cell_type": "code",
   "execution_count": null,
   "id": "8320e40e",
   "metadata": {},
   "outputs": [],
   "source": [
    "print(X[:2, 1:])"
   ]
  },
  {
   "cell_type": "markdown",
   "id": "e20a4755",
   "metadata": {},
   "source": [
    "## Operaciones con Arreglos\n",
    "Numpy nos permite realizar distintos tipos de operaciones con arreglos, incluyendo sumas, promedios, productorias, entre otros. Veamos las operaciones de agregación generales:\n",
    "\n",
    "* Sumas"
   ]
  },
  {
   "cell_type": "code",
   "execution_count": null,
   "id": "d8489ba6",
   "metadata": {},
   "outputs": [],
   "source": [
    "print(X.sum()) # suma de todos los elementos en el arreglo"
   ]
  },
  {
   "cell_type": "code",
   "execution_count": null,
   "id": "bf57c465",
   "metadata": {},
   "outputs": [],
   "source": [
    "print(X.sum(axis=0)) # suma por columnas"
   ]
  },
  {
   "cell_type": "code",
   "execution_count": null,
   "id": "a639ff0f",
   "metadata": {},
   "outputs": [],
   "source": [
    "print(X.sum(axis=1)) # suma por filas"
   ]
  },
  {
   "cell_type": "markdown",
   "id": "2411230c",
   "metadata": {},
   "source": [
    "* Promedios"
   ]
  },
  {
   "cell_type": "code",
   "execution_count": null,
   "id": "d4001b9d",
   "metadata": {},
   "outputs": [],
   "source": [
    "print(X.mean()) # promedio de todos los elementos"
   ]
  },
  {
   "cell_type": "code",
   "execution_count": null,
   "id": "a0d19633",
   "metadata": {},
   "outputs": [],
   "source": [
    "print(X.mean(axis=0)) # promedio por columna"
   ]
  },
  {
   "cell_type": "code",
   "execution_count": null,
   "id": "ad7a2bcb",
   "metadata": {},
   "outputs": [],
   "source": [
    "print(X.mean(axis=1)) # promedio por filas"
   ]
  },
  {
   "cell_type": "markdown",
   "id": "dd399f51",
   "metadata": {},
   "source": [
    "* Desviación estándar"
   ]
  },
  {
   "cell_type": "code",
   "execution_count": null,
   "id": "9f0ea15f",
   "metadata": {},
   "outputs": [],
   "source": [
    "print(X.std()) # desviación estándar de todos los elementos"
   ]
  },
  {
   "cell_type": "code",
   "execution_count": null,
   "id": "c03cd035",
   "metadata": {},
   "outputs": [],
   "source": [
    "print(X.std(axis=0)) # desviación estándar por columna"
   ]
  },
  {
   "cell_type": "code",
   "execution_count": null,
   "id": "6fe28ddc",
   "metadata": {},
   "outputs": [],
   "source": [
    "print(X.std(axis=1)) # desviación estándar por fila"
   ]
  },
  {
   "cell_type": "markdown",
   "id": "a1664063",
   "metadata": {},
   "source": [
    "* Operaciones algebraicas"
   ]
  },
  {
   "cell_type": "code",
   "execution_count": null,
   "id": "ef75e73c",
   "metadata": {},
   "outputs": [],
   "source": [
    "X = np.array([\n",
    "    [2, -1],\n",
    "    [1, 3]\n",
    "    ])\n",
    "print(np.linalg.inv(X)) # inverso de una matriz."
   ]
  },
  {
   "cell_type": "code",
   "execution_count": null,
   "id": "f5f9c73b",
   "metadata": {},
   "outputs": [],
   "source": [
    "print(np.linalg.eig(X)) # valores y vectores propios."
   ]
  },
  {
   "cell_type": "code",
   "execution_count": null,
   "id": "eaaa3731",
   "metadata": {},
   "outputs": [],
   "source": [
    "print(np.linalg.det(X)) # determinante de la matriz."
   ]
  },
  {
   "cell_type": "code",
   "execution_count": null,
   "id": "3655a537",
   "metadata": {},
   "outputs": [],
   "source": [
    "print(np.linalg.matrix_rank(X)) # rango de una matriz"
   ]
  },
  {
   "cell_type": "markdown",
   "id": "0f919b7f",
   "metadata": {},
   "source": [
    "## Operaciones entre Arreglos\n",
    "También podemos realizar operaciones entre distintos arreglos."
   ]
  },
  {
   "cell_type": "code",
   "execution_count": null,
   "id": "3c30fc2f",
   "metadata": {},
   "outputs": [],
   "source": [
    "X = np.random.randint(10, size=(5, 5))\n",
    "Y = np.random.randint(10, size=(5, 5))"
   ]
  },
  {
   "cell_type": "code",
   "execution_count": null,
   "id": "f13b4132",
   "metadata": {},
   "outputs": [],
   "source": [
    "print(X + Y) # suma de matrices"
   ]
  },
  {
   "cell_type": "code",
   "execution_count": null,
   "id": "6389e815",
   "metadata": {},
   "outputs": [],
   "source": [
    "print(X - Y) # resta de matrices"
   ]
  },
  {
   "cell_type": "code",
   "execution_count": null,
   "id": "cbd39c99",
   "metadata": {},
   "outputs": [],
   "source": [
    "print(X * Y) # producto elemento a elemento"
   ]
  },
  {
   "cell_type": "code",
   "execution_count": null,
   "id": "75d94c61",
   "metadata": {},
   "outputs": [],
   "source": [
    "print(X @ Y) # producto matricial"
   ]
  },
  {
   "cell_type": "code",
   "execution_count": null,
   "id": "4d3a4c94",
   "metadata": {},
   "outputs": [],
   "source": [
    "print(X / Y) # división elemento a elemento"
   ]
  }
 ],
 "metadata": {
  "jupytext": {
   "cell_metadata_filter": "-all",
   "main_language": "python",
   "notebook_metadata_filter": "-all"
  }
 },
 "nbformat": 4,
 "nbformat_minor": 5
}
