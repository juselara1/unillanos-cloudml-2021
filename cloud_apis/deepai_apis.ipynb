{
 "cells": [
  {
   "cell_type": "markdown",
   "id": "fde3370e",
   "metadata": {},
   "source": [
    "# Taller de Machine Learning en la Nube con Python - APIs de Machine Learning en la Nube\n",
    "**Juan S. Lara**\n",
    "\n",
    "*Universidad Nacional de Colombia*\n",
    "\n",
    "[julara@unal.edu.co]()\n",
    "\n",
    "<a href=\"https://github.com/juselara1\"><img src=\"https://mpng.subpng.com/20180326/gxq/kisspng-github-computer-icons-icon-design-github-5ab8a31e334e73.4114704215220498222102.jpg\" width=\"20\" align=\"left\"></a>\n",
    "<a href=\"https://www.linkedin.com/in/juan-sebastian-lara-ramirez-43570a214/\"><img src=\"https://image.flaticon.com/icons/png/512/174/174857.png\" width=\"20\" align=\"left\"></a>\n",
    "<a href=\"https://www.researchgate.net/profile/Juan-Lara-Ramirez\"><img src=\"https://user-images.githubusercontent.com/511683/28757557-f82cff1a-7585-11e7-9317-072a838dcca3.png\" width=\"20\" align=\"left\"></a>"
   ]
  },
  {
   "cell_type": "code",
   "execution_count": null,
   "id": "38629501",
   "metadata": {
    "lines_to_next_cell": 0
   },
   "outputs": [],
   "source": [
    "import requests\n",
    "import cv2\n",
    "import numpy as np\n",
    "import matplotlib.pyplot as plt\n",
    "from matplotlib.patches import Rectangle"
   ]
  },
  {
   "cell_type": "markdown",
   "id": "7f347361",
   "metadata": {
    "lines_to_next_cell": 0
   },
   "source": [
    "## Servicios en la Nube\n",
    "Existen diversos servicios para machine learning en la nube. Distintos proveedores como Google, Microsoft, Amazon, entre otros; dan acceso a APIs con distintos modelos ya pre-entrenados y listos para usar. En este caso utilizaremos APIs gratuitas que ofrece DeepAI.\n",
    "\n",
    "Para usar estos servicios debemos registrarnos en DeepAI y obtener un API key."
   ]
  },
  {
   "cell_type": "code",
   "execution_count": null,
   "id": "65e3e1e1",
   "metadata": {},
   "outputs": [],
   "source": [
    "api_key = \"\""
   ]
  },
  {
   "cell_type": "markdown",
   "id": "dd1d50ac",
   "metadata": {},
   "source": [
    "## Image Colorization\n",
    "Este modelo nos permite colorear imágenes en blanco y negro.\n",
    "\n",
    "Primero, cargamos la imagen en blanco y negro:\n",
    "**Puede descargar la imagen usando el siguiente comando**\n",
    "\n",
    "```python\n",
    "!wget \n",
    "```"
   ]
  },
  {
   "cell_type": "code",
   "execution_count": null,
   "id": "e43668e0",
   "metadata": {},
   "outputs": [],
   "source": [
    "im_bw = cv2.imread(\"data/bw_image.jpg\") "
   ]
  },
  {
   "cell_type": "markdown",
   "id": "0ad5ab20",
   "metadata": {},
   "source": [
    "Realizamos un post al endpoint correspondiente:"
   ]
  },
  {
   "cell_type": "code",
   "execution_count": null,
   "id": "215e6074",
   "metadata": {},
   "outputs": [],
   "source": [
    "r = requests.post(\n",
    "        \"https://api.deepai.org/api/colorizer\",\n",
    "        files={\"image\": open(\"data/bw_image.jpg\", \"rb\")},\n",
    "        headers={\"api-key\": api_key}\n",
    "        )\n",
    "print(r.status_code)\n",
    "print(r.json())"
   ]
  },
  {
   "cell_type": "markdown",
   "id": "6c4953d7",
   "metadata": {},
   "source": [
    "Realizamos un get para extraer la imagen resultante:"
   ]
  },
  {
   "cell_type": "code",
   "execution_count": null,
   "id": "6787d2c2",
   "metadata": {},
   "outputs": [],
   "source": [
    "r2 = requests.get(\n",
    "        r.json()[\"output_url\"]\n",
    "        )\n",
    "im_color = np.frombuffer(r2.content, np.uint8)\n",
    "im_color = cv2.imdecode(im_color, cv2.IMREAD_ANYCOLOR)"
   ]
  },
  {
   "cell_type": "markdown",
   "id": "e516fcfd",
   "metadata": {},
   "source": [
    "Finalmente, veamos los resultados:"
   ]
  },
  {
   "cell_type": "code",
   "execution_count": null,
   "id": "fc6bdfa9",
   "metadata": {},
   "outputs": [],
   "source": [
    "fig, ax = plt.subplots(1, 2, figsize=(15, 10))\n",
    "ax[0].imshow(im_bw)\n",
    "ax[0].axis(\"off\")\n",
    "ax[0].set_title(\"Original\")\n",
    "ax[1].imshow(im_color)\n",
    "ax[1].axis(\"off\")\n",
    "ax[1].set_title(\"Resultado\")"
   ]
  },
  {
   "cell_type": "markdown",
   "id": "eff029ba",
   "metadata": {},
   "source": [
    "## Facial Recognition\n",
    "Este servicio nos permite detectar rostros dentro de imágenes.\n",
    "\n",
    "Primero cargamos una imagen con rostros.\n",
    "\n",
    "**Puede descargar la imagen usando el siguiente comando:**\n",
    "\n",
    "```sh\n",
    "!wet \n",
    "```"
   ]
  },
  {
   "cell_type": "code",
   "execution_count": null,
   "id": "8270ff78",
   "metadata": {
    "lines_to_next_cell": 0
   },
   "outputs": [],
   "source": [
    "im = cv2.imread(\"data/people.png\")\n",
    "im = cv2.cvtColor(im, cv2.COLOR_BGR2RGB)"
   ]
  },
  {
   "cell_type": "code",
   "execution_count": null,
   "id": "7483f479",
   "metadata": {},
   "outputs": [],
   "source": [
    "r = requests.post(\n",
    "        \"https://api.deepai.org/api/facial-recognition\",\n",
    "        files={\"image\": open(\"data/people.png\", \"rb\")},\n",
    "        headers={\"api-key\": api_key}\n",
    "        )\n",
    "print(r.status_code)\n",
    "print(r.json())"
   ]
  },
  {
   "cell_type": "markdown",
   "id": "667860c8",
   "metadata": {},
   "source": [
    "Veamos los resultados:"
   ]
  },
  {
   "cell_type": "code",
   "execution_count": null,
   "id": "6bdd2046",
   "metadata": {},
   "outputs": [],
   "source": [
    "fig, ax = plt.subplots(1, 1, figsize=(15, 10))\n",
    "ax.imshow(im)\n",
    "for bbox in r.json()[\"output\"][\"faces\"]:\n",
    "    coords = bbox[\"bounding_box\"]\n",
    "    rect = Rectangle(\n",
    "            coords[:2],\n",
    "            coords[2],\n",
    "            coords[3],\n",
    "            linewidth=5, edgecolor='b',\n",
    "            facecolor='none'\n",
    "            )\n",
    "    ax.add_patch(rect)\n",
    "ax.axis(\"off\")"
   ]
  },
  {
   "cell_type": "markdown",
   "id": "f01e3921",
   "metadata": {},
   "source": [
    "## Sentiment Analysis\n",
    "El servicio de análisis de sentimientos permite clasificar sentimientos en textos."
   ]
  },
  {
   "cell_type": "markdown",
   "id": "c9438bc7",
   "metadata": {},
   "source": [
    "Cargamos los textos"
   ]
  },
  {
   "cell_type": "code",
   "execution_count": null,
   "id": "73381808",
   "metadata": {},
   "outputs": [],
   "source": [
    "with open(\"data/angry.txt\") as f:\n",
    "    angry = f.read()\n",
    "\n",
    "with open(\"data/happy.txt\") as f:\n",
    "    happy = f.read()"
   ]
  },
  {
   "cell_type": "markdown",
   "id": "86f66be7",
   "metadata": {},
   "source": [
    "Hacemos las dos peticiones:"
   ]
  },
  {
   "cell_type": "code",
   "execution_count": null,
   "id": "208644fa",
   "metadata": {},
   "outputs": [],
   "source": [
    "# Texto angry.txt\n",
    "r = requests.post(\n",
    "        \"https://api.deepai.org/api/sentiment-analysis\",\n",
    "        files={\"text\": open(\"data/angry.txt\", \"r\")},\n",
    "        headers={\"api-key\": api_key}\n",
    "        )\n",
    "print(r.status_code)\n",
    "print(angry)\n",
    "print(r.json())"
   ]
  },
  {
   "cell_type": "code",
   "execution_count": null,
   "id": "a15b0515",
   "metadata": {},
   "outputs": [],
   "source": [
    "# Texto happy.txt\n",
    "r = requests.post(\n",
    "        \"https://api.deepai.org/api/sentiment-analysis\",\n",
    "        files={\"text\": open(\"data/happy.txt\", \"r\")},\n",
    "        headers={\"api-key\": api_key}\n",
    "        )\n",
    "print(r.status_code)\n",
    "print(happy)\n",
    "print(r.json())"
   ]
  },
  {
   "cell_type": "markdown",
   "id": "d0ee8492",
   "metadata": {},
   "source": [
    "## Text Summarization\n",
    "Este servicio nos permite acortar textos.\n",
    "\n",
    "Primero, cargamos el texto:"
   ]
  },
  {
   "cell_type": "code",
   "execution_count": null,
   "id": "ab7f8866",
   "metadata": {},
   "outputs": [],
   "source": [
    "with open(\"data/long_text.txt\") as f:\n",
    "    long_text = f.read()"
   ]
  },
  {
   "cell_type": "markdown",
   "id": "8ed51b37",
   "metadata": {},
   "source": [
    "Ahora, hacemos la petición:"
   ]
  },
  {
   "cell_type": "code",
   "execution_count": null,
   "id": "0c044da5",
   "metadata": {},
   "outputs": [],
   "source": [
    "r = requests.post(\n",
    "        \"https://api.deepai.org/api/summarization\",\n",
    "        files={\"text\": open(\"data/long_text.txt\", \"r\")},\n",
    "        headers={\"api-key\": api_key}\n",
    "        )\n",
    "print(r.status_code)\n",
    "print(long_text)\n",
    "print(r.json())"
   ]
  },
  {
   "cell_type": "markdown",
   "id": "18c9d645",
   "metadata": {},
   "source": [
    "## Toonify\n",
    "Con este servicio podemos caricaturizar imágenes."
   ]
  },
  {
   "cell_type": "code",
   "execution_count": null,
   "id": "50965f0c",
   "metadata": {},
   "outputs": [],
   "source": [
    "im = cv2.imread(\"data/kubrick.jpg\")\n",
    "r = requests.post(\n",
    "        \"https://api.deepai.org/api/toonify\",\n",
    "        files={\"image\": open(\"data/kubrick.jpg\", \"rb\")},\n",
    "        headers={\"api-key\": api_key}\n",
    "        )\n",
    "\n",
    "im = cv2.cvtColor(im, cv2.COLOR_BGR2RGB)"
   ]
  },
  {
   "cell_type": "code",
   "execution_count": null,
   "id": "6a6e8420",
   "metadata": {},
   "outputs": [],
   "source": [
    "r2 = requests.get(\n",
    "        r.json()[\"output_url\"]\n",
    "        )\n",
    "im_toon = np.frombuffer(r2.content, np.uint8)\n",
    "im_toon = cv2.imdecode(im_toon, cv2.IMREAD_ANYCOLOR)\n",
    "im_toon = cv2.cvtColor(im_toon, cv2.COLOR_BGR2RGB)"
   ]
  },
  {
   "cell_type": "code",
   "execution_count": null,
   "id": "2500c7e3",
   "metadata": {},
   "outputs": [],
   "source": [
    "fig, ax = plt.subplots(1, 2, figsize=(15, 10))\n",
    "ax[0].imshow(im)\n",
    "ax[0].axis(\"off\")\n",
    "ax[0].set_title(\"Original\")\n",
    "ax[1].imshow(im_toon)\n",
    "ax[1].axis(\"off\")\n",
    "ax[1].set_title(\"Resultado\")\n",
    "fig.savefig(\"temp.png\")"
   ]
  }
 ],
 "metadata": {
  "jupytext": {
   "cell_metadata_filter": "-all",
   "main_language": "python",
   "notebook_metadata_filter": "-all"
  }
 },
 "nbformat": 4,
 "nbformat_minor": 5
}
