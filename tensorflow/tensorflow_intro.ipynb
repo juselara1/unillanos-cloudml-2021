{
 "cells": [
  {
   "cell_type": "markdown",
   "id": "44995e27",
   "metadata": {},
   "source": [
    "# Taller de Machine Learning en la Nube con Python - Introducción a Tensorflow\n",
    "**Juan S. Lara**\n",
    "\n",
    "*Universidad Nacional de Colombia*\n",
    "\n",
    "[julara@unal.edu.co]()\n",
    "\n",
    "<a href=\"https://github.com/juselara1\"><img src=\"https://mpng.subpng.com/20180326/gxq/kisspng-github-computer-icons-icon-design-github-5ab8a31e334e73.4114704215220498222102.jpg\" width=\"20\" align=\"left\"></a>\n",
    "<a href=\"https://www.linkedin.com/in/juan-sebastian-lara-ramirez-43570a214/\"><img src=\"https://image.flaticon.com/icons/png/512/174/174857.png\" width=\"20\" align=\"left\"></a>\n",
    "<a href=\"https://www.researchgate.net/profile/Juan-Lara-Ramirez\"><img src=\"https://user-images.githubusercontent.com/511683/28757557-f82cff1a-7585-11e7-9317-072a838dcca3.png\" width=\"20\" align=\"left\"></a>"
   ]
  },
  {
   "cell_type": "markdown",
   "id": "48614e57",
   "metadata": {},
   "source": [
    "Definiremos algunas funciones para facilitar la visualización, usaremos estas funciones a lo largo del notebook para comprender los conceptos detrás de tensorflow."
   ]
  },
  {
   "cell_type": "code",
   "execution_count": null,
   "id": "27720277",
   "metadata": {},
   "outputs": [],
   "source": [
    "# Función para mostrar regiones de decisión\n",
    "import numpy as np\n",
    "import matplotlib.pyplot as plt\n",
    "\n",
    "def plot_decision_region(X, y, model):\n",
    "    plt.figure(figsize=(7, 7))\n",
    "    min_x = np.min(X[:, 0])\n",
    "    max_x = np.max(X[:, 0])\n",
    "    min_y = np.min(X[:, 1])\n",
    "    max_y = np.max(X[:, 1])\n",
    "    min_x = min_x - (max_x - min_x) * 0.05\n",
    "    max_x = max_x + (max_x - min_x) * 0.05\n",
    "    min_y = min_y - (max_y - min_y) * 0.05\n",
    "    max_y = max_y + (max_y - min_y) * 0.05\n",
    "    x_1 = np.linspace(min_x, max_x, 100)\n",
    "    x_2 = np.linspace(min_y, max_y, 100)\n",
    "    x1, x2 = np.meshgrid(x_1, x_2)\n",
    "    X_grid = np.concatenate([x1.reshape(-1, 1), x2.reshape(-1, 1)], axis=1)\n",
    "    y_pred = model.predict(X_grid)\n",
    "    Z = y_pred.reshape(x1.shape)\n",
    "    plt.contourf(x1, x2, Z, cmap=plt.cm.RdBu, alpha=0.2)\n",
    "    plt.scatter(X[:, 0], X[:, 1], c=y,alpha=0.7, cmap=plt.cm.RdBu, s=100)\n",
    "    plt.xlabel(\"$x_1$\");plt.ylabel(\"$x_2$\")"
   ]
  },
  {
   "cell_type": "code",
   "execution_count": null,
   "id": "161a2751",
   "metadata": {},
   "outputs": [],
   "source": [
    "import tensorflow as tf"
   ]
  },
  {
   "cell_type": "markdown",
   "id": "41d8c9cf",
   "metadata": {},
   "source": [
    "## ¿Qué es Tensorflow?\n",
    "Tensorflow es una plataforma end-to-end de uso libre para machine learning (ML). Se compone de un ecosistema exhaustivo y flexible de herramientas, librerías y recursos de la comunidad que permite a investigadores y desarrolladores construir e implementar aplicaciones basadas en ML.\n",
    "\n",
    "Unas de las principales ventajas de tensorflow son:\n",
    "\n",
    "|Fácil construcción de modelos|Producción robusta de ML|Experimentación para investigación|\n",
    "|---|---|---|\n",
    "|<img src=\"https://www.tensorflow.org/site-assets/images/marketing/home/model.svg\" width=\"80%\"> | <img src=\"https://www.tensorflow.org/site-assets/images/marketing/home/robust.svg\" width=\"80%\" />|<img src=\"https://www.tensorflow.org/site-assets/images/marketing/home/research.svg\" width=\"80%\" />|\n",
    "| Facilita la implementación y el entrenamiento <br/> de modelos de ML utilizando APIs de alto nivel <br/> como *Keras* con *eager execution*, lo cual, <br/> permite una fácil construcción y depuración.| Permite entrenar e implementar fácilmente <br/> modelos en la nube, en dispositivos móviles o <br/>en un navegador sin importar el lenguaje usado.| Tiene una arquitectura simple y flexible para <br/> llevar nuevas ideas desde el concepto hasta el <br/>código, permite usar los modelos más recientes <br/>en el estado del arte para publicar más rápido.\n",
    "|"
   ]
  },
  {
   "cell_type": "markdown",
   "id": "7d901bca",
   "metadata": {},
   "source": [
    "## Acelerando el entrenamiento de los Modelos de deep learning\n",
    "El aprendizaje profundo o deep learning se refiere a una familia de modelos basados en redes neuronales artificiales que son escalables (funcionan bien con grandes cantidades de datos) y tienen gran efectividad en diferente tareas complejas sobre datos de diferente naturaleza.  \n",
    "\n",
    "Muchos de los frameworks de deep learning actuales muestran como una de sus principales características su habilidad para escalar. Esta habilidad es esencial dado que los modelos de deep learning presentan estas dos características:\n",
    "\n",
    "* Son modelos con gran cantidad de parámetros a aprender.\n",
    "* Se aplican sobre conjuntos de datos enormes.\n",
    "\n",
    "Estas características de los modelos de deep learning hacen que un entrenamiento convencional usando solamente una CPU, con varios núcleos, sea extremadamente lento. Por ello se han desarrollado varias estrategias para acelerar dicho entrenamiento entre estas se encuentra el uso de GPU (Graphic processing Unit) o unidades de procesamiento gráfico donde miles de procesadores pueden ejecutar tareas en paralelo acelerando así el entrenamiento.\n",
    "\n",
    "**De la computación gráfica al procesamiento numérico general GPGPU**\n",
    "* Instrucción única, arquitectura de datos múltiples\n",
    "* Alto rendimiento en báculos usando paralelismo de datos.\n",
    "* Hardware básico\n",
    "* Dos vendedores principales: Nvidia, AMD"
   ]
  },
  {
   "cell_type": "markdown",
   "id": "33fa91d9",
   "metadata": {},
   "source": [
    "## 2. Conceptos Generales en Tensorflow\n",
    "\n",
    "Veamos algunos conceptos básicos de tensorflow:"
   ]
  },
  {
   "cell_type": "markdown",
   "id": "2530cc04",
   "metadata": {},
   "source": [
    "### Grafo computacional\n",
    "\n",
    "Tensorflow es de gran utilidad en *Deep learning* debido fundamentalmente a que permite realizar diferenciación automática y paraleliza operaciones matemáticas, Tensorflow consigue esto al construir internamente un grafo computacional:\n",
    "\n",
    "<img src=\"https://github.com/tensorflow/docs/blob/master/site/en/guide/images/intro_to_graphs/two-layer-network.png?raw=1\" width=\"70%\" />\n",
    "\n",
    "Este grafo define un flujo de datos basado en expresiones matemáticas. Más específicamente, Tensorflow utiliza un grafo dirigido donde cada nodo representa una operación o variable.\n",
    "\n",
    "Una de las principales ventajas de usar un grafo computacional, es que, las operaciones se definen como relaciones o dependencias, lo cual, permite que los cómputos sean fácilmente simplificados y paralelizados. Esto es mucho más práctico en comparación con un programa convencional donde las operaciones se ejecutan de forma secuencial."
   ]
  },
  {
   "cell_type": "markdown",
   "id": "2045a0da",
   "metadata": {},
   "source": [
    "### Tensores\n",
    "\n",
    "La principal estructura de datos utilizada en Tensorflow son los tensores. Se trata de arreglos multidimensionales que permiten guardar información. Se pueden ver como una generalización de los escalares (0D-tensor), vectores (1D-tensor) y las matrices (2D-tensor). Veamos algunos ejemplos de tensores de distintos órdenes:"
   ]
  },
  {
   "cell_type": "code",
   "execution_count": null,
   "id": "3fa648fc",
   "metadata": {},
   "outputs": [],
   "source": [
    "# definimos un 1D-tensor (vector) constante a partir de una lista\n",
    "t = tf.constant([2, 3, 4, 5], dtype=tf.int32)\n",
    "print(t)"
   ]
  },
  {
   "cell_type": "markdown",
   "id": "b08f8d5d",
   "metadata": {},
   "source": [
    "Un tensor tiene dos propiedades básicas: su forma (`shape`) y su tipo (`dtype`). Por un lado, el `shape`, al igual que en `numpy`, indica el orden, número de dimensiones, y el tamaño de cada dimensión. En el ejemplo anterior tenemos un tensor de orden 1, es decir una única dimensión, de tamaño 4. \n",
    "Por otro lado, al igual que en cualquier lenguaje de programación, los tensores tienen un typo de representación interna: `tf.int32`, `tf.float32`, `tf.string`, entre otros. Una correcta selección del tipo de datos puede hacer los códigos más eficientes. En el ejemplo anterior, el tipo del tensor es entero de 32 bits.\n",
    "\n",
    "El siguiente ejemplo corresponde a un tensor de orden 2, una matriz, cuyo tipo es flotante de 32 bits."
   ]
  },
  {
   "cell_type": "code",
   "execution_count": null,
   "id": "773f4de9",
   "metadata": {},
   "outputs": [],
   "source": [
    "# definimos un 2D-tensor (matriz) variable a partir de una lista\n",
    "t = tf.constant([[9, 5], [1, 0]], dtype=tf.float32)\n",
    "print(t)"
   ]
  },
  {
   "cell_type": "markdown",
   "id": "0150ec71",
   "metadata": {},
   "source": [
    "En Tensorflow hay dos tipos principales de tensores:\n",
    "\n",
    "* ```tf.constant```: son arreglos multidimensionales inmutables, es decir, son tensores que no van a cambiar durante la ejecución.\n",
    "* ```tf.Variable```: se trata de tensores cuyos valores pueden cambiar durante la ejecución (por ejemplo, los parámetros de un modelo se definen como variables, ya que, estos valores se actualizan de forma iterativa).\n",
    "\n",
    "Veamos un ejemplo de variables en tensorflow:"
   ]
  },
  {
   "cell_type": "code",
   "execution_count": null,
   "id": "080df3f0",
   "metadata": {},
   "outputs": [],
   "source": [
    "# definimos un 2D-tensor (matriz) variable a partir de una lista\n",
    "t = tf.Variable([[1, 2], [3, 4]], dtype=tf.float32)\n",
    "print(t)"
   ]
  },
  {
   "cell_type": "code",
   "execution_count": null,
   "id": "e273a0b1",
   "metadata": {},
   "outputs": [],
   "source": [
    "# al tensor variable le podemos asignar un nuevo valor\n",
    "t.assign([[-2, -1], [-3, -7]])\n",
    "print(t)"
   ]
  },
  {
   "cell_type": "code",
   "execution_count": null,
   "id": "85861310",
   "metadata": {},
   "outputs": [],
   "source": [
    "# también podemos sumarle o restarle un valor\n",
    "t.assign_add([[1, 1], [1, 1]])\n",
    "print(t)\n",
    "t.assign_sub([[2, 2], [2, 2]])\n",
    "print(t)"
   ]
  },
  {
   "cell_type": "markdown",
   "id": "6931e200",
   "metadata": {},
   "source": [
    "Podemos realizar diversas operaciones y definir funciones sobre tensores, así mismo, tensorflow provee un *slicing* similar al de los arreglos de numpy. Veamos un ejemplo:"
   ]
  },
  {
   "cell_type": "code",
   "execution_count": null,
   "id": "dd0a5e06",
   "metadata": {},
   "outputs": [],
   "source": [
    "# Definimos un 2D-tensor A\n",
    "A=tf.constant([[1, 2], [3, 4]], dtype=tf.float32)\n",
    "# Definimos un 2D-tensor B\n",
    "B=tf.constant([[-1, -2], [-3, -4]], dtype=tf.float32)"
   ]
  },
  {
   "cell_type": "code",
   "execution_count": null,
   "id": "b8b153de",
   "metadata": {},
   "outputs": [],
   "source": [
    "# suma\n",
    "A + B"
   ]
  },
  {
   "cell_type": "code",
   "execution_count": null,
   "id": "feb39ae2",
   "metadata": {},
   "outputs": [],
   "source": [
    "# resta\n",
    "A - B"
   ]
  },
  {
   "cell_type": "code",
   "execution_count": null,
   "id": "28759979",
   "metadata": {},
   "outputs": [],
   "source": [
    "# multiplicación por un escalar (definido en Python)\n",
    "3 * A"
   ]
  },
  {
   "cell_type": "code",
   "execution_count": null,
   "id": "28912a3a",
   "metadata": {
    "id": "VtyAyKv7m-0a"
   },
   "outputs": [],
   "source": [
    "# multiplicación elemento a elemento\n",
    "A * B"
   ]
  },
  {
   "cell_type": "code",
   "execution_count": null,
   "id": "dac0b979",
   "metadata": {},
   "outputs": [],
   "source": [
    "# multiplicación matricial\n",
    "print(tf.matmul(A, B))"
   ]
  },
  {
   "cell_type": "code",
   "execution_count": null,
   "id": "a7d536e3",
   "metadata": {},
   "outputs": [],
   "source": [
    "# Ejemplos de slicing\n",
    "print('Tensor original:\\n {}'.format(A))\n",
    "# seleccionamos la primera fila\n",
    "print('Primera fila:\\n {}'.format(A[0]))\n",
    "# seleccionamos el primer elemento de la primera fila\n",
    "print('Primer elemento de la primera fila: \\n {}'.format(A[0, 0]))\n",
    "# Selecionamos la segunda columna\n",
    "print('Segunda columna:\\n {}'.format(A[:, 1]))\n",
    "# Invertimos las filas\n",
    "print('Filas invertidas:\\n {}'.format(A[::-1]))"
   ]
  },
  {
   "cell_type": "markdown",
   "id": "349d6bd9",
   "metadata": {},
   "source": [
    "También podemos aplicar diferentes funciones matemáticas a todos los elementos de un tensor:"
   ]
  },
  {
   "cell_type": "code",
   "execution_count": null,
   "id": "e85795c5",
   "metadata": {},
   "outputs": [],
   "source": [
    "# logaritmo \n",
    "tf.math.log(A)"
   ]
  },
  {
   "cell_type": "markdown",
   "id": "e1c31c8c",
   "metadata": {},
   "source": [
    "Otros tipos de operaciones aritméticas, funciones matemáticas y operaciones de álgebra lineal se pueden encontrar en el paquete ```tf.math``` y de álgebra lineal en el paquete ```tf.linalg```"
   ]
  },
  {
   "cell_type": "markdown",
   "id": "314dc7de",
   "metadata": {},
   "source": [
    "### Eager execution\n",
    "\n",
    "*Tensorflow* provee un ambiente de programación imperativo (*Eager execution*) para evaluar las operaciones de forma inmediata sin la necesidad de que el usuario especifique explícitamente un grafo. Es decir, el resultado de las operaciones son valores concretos en lugar de variables simbólicas dentro del grafo computacional. Además, también permite construir el grafo de forma automática en casos donde sea requerido. Esto permite comenzar más fácilmente a programar en *Tensorflow* y a depurar modelos. Adicionalmente, *Eager execution* soporta la mayoría de las funcionalidades de *Tensorflow* y también permite aceleración por GPU.\n",
    "\n",
    "*Eager execution* es una plataforma flexible para la investigación y la experimentación que provee:\n",
    "\n",
    "* **Interfaz intuitiva**: permite desarrollar código de forma natural y usar estructuras de datos de Python. También permite desarrollar rápido aplicaciones en casos con modelos pequeños y pocos datos.\n",
    "\n",
    "* **Depuración simple**: ejecutar las operaciones directamente permite revisar a detalle los modelos durante ejecución y evaluar cambios. Además, utiliza herramientas de depuración nativas en Python para reportar errores de forma inmediata.\n",
    "\n",
    "* **Control natural**: controlar las variables desde Python en lugar de un control por medio de un grafo simplifica la especificación de modelos más dinámicos.\n",
    "\n",
    "La versión 2.0 de *Tensorflow* trae por defecto *Eager execution*."
   ]
  },
  {
   "cell_type": "code",
   "execution_count": null,
   "id": "48df1988",
   "metadata": {},
   "outputs": [],
   "source": [
    "# Revisamos la versión de tensorflow\n",
    "tf.__version__"
   ]
  },
  {
   "cell_type": "code",
   "execution_count": null,
   "id": "2df01257",
   "metadata": {
    "lines_to_next_cell": 1
   },
   "outputs": [],
   "source": [
    "# Revisamos si eager execution está activa\n",
    "tf.executing_eagerly()"
   ]
  },
  {
   "cell_type": "markdown",
   "id": "c08ed22d",
   "metadata": {},
   "source": [
    "Por defecto, *Eager execution* ejecuta las operaciones de forma secuencial, es decir, no construye un grafo computacional de no ser que sea necesario para alguna operación o de ser especificado. Para que tensorflow construya el grafo debemos utilizar el decorador ```tf.function``` como se muestra a continuación:"
   ]
  },
  {
   "cell_type": "code",
   "execution_count": null,
   "id": "965d13fe",
   "metadata": {
    "lines_to_next_cell": 1
   },
   "outputs": [],
   "source": [
    "# Definimos una función decorada (construye internamente el grafo computacional)\n",
    "@tf.function\n",
    "def poly(x):\n",
    "    y1 = 2 * x + 3 * x ** 4 + 5 * x ** 2\n",
    "    y2 = 5 * x + - 2 * x ** 4 + - 3 * x ** 2\n",
    "    y3 = x + 2\n",
    "    return  y1 + y2 + y3"
   ]
  },
  {
   "cell_type": "code",
   "execution_count": null,
   "id": "a766e1e3",
   "metadata": {
    "lines_to_next_cell": 1
   },
   "outputs": [],
   "source": [
    "# Definimos una función normal en Python (ejecuta las operaciones de forma secuencial)\n",
    "def poly2(x):\n",
    "    y1 = 2 * x + 3 * x ** 4 + 5 * x ** 2\n",
    "    y2 = 5 * x + - 2 * x ** 4 + - 3 * x ** 2\n",
    "    y3 = x + 2\n",
    "    return  y1 + y2 + y3"
   ]
  },
  {
   "cell_type": "code",
   "execution_count": null,
   "id": "a1be28c3",
   "metadata": {},
   "outputs": [],
   "source": [
    "poly2"
   ]
  },
  {
   "cell_type": "markdown",
   "id": "4c17dbc5",
   "metadata": {},
   "source": [
    "Ahora veamos una comparación entre el tiempo promedio de estas dos funciones:"
   ]
  },
  {
   "cell_type": "code",
   "execution_count": null,
   "id": "b54aaad4",
   "metadata": {},
   "outputs": [],
   "source": [
    "%%timeit -n 1000\n",
    "poly(tf.constant([1, 2, 3, 4], dtype=tf.float32))"
   ]
  },
  {
   "cell_type": "code",
   "execution_count": null,
   "id": "9668c9ef",
   "metadata": {},
   "outputs": [],
   "source": [
    "%%timeit -n 1000\n",
    "poly2(tf.constant([1, 2, 3, 4], dtype=tf.float32))"
   ]
  },
  {
   "cell_type": "markdown",
   "id": "d2cc64b9",
   "metadata": {},
   "source": [
    "### Integración con numpy\n",
    "\n",
    "Una de las principales ventajas de Tensorflow 2.0 es su compatibilidad con arreglos y operaciones de numpy. Esta última es la librería de álgebra lineal más usada en python.\n",
    "\n",
    "Veamos algunos ejemplos con numpy y Tensorflow:"
   ]
  },
  {
   "cell_type": "code",
   "execution_count": null,
   "id": "185212bd",
   "metadata": {},
   "outputs": [],
   "source": [
    "# Definimos un arreglo en numpy, la función linspace crea una secuencia de 'num' números\n",
    "# igualmente distanciados entre dos límites 'start' y 'stop' \n",
    "x = np.linspace(start=0, stop=1, num=10)\n",
    "x"
   ]
  },
  {
   "cell_type": "code",
   "execution_count": null,
   "id": "84db18a8",
   "metadata": {},
   "outputs": [],
   "source": [
    "# Realizamos algunas operaciones en Tensorflow\n",
    "acum = tf.reduce_sum(x)\n",
    "acum"
   ]
  },
  {
   "cell_type": "code",
   "execution_count": null,
   "id": "d32a9c80",
   "metadata": {},
   "outputs": [],
   "source": [
    "# Definimos un tensor en Tensorflow\n",
    "x = tf.linspace(0.0,1.0,10)\n",
    "x"
   ]
  },
  {
   "cell_type": "code",
   "execution_count": null,
   "id": "0d318259",
   "metadata": {},
   "outputs": [],
   "source": [
    "# Realizamos algunas operaciones en numpy\n",
    "acum = np.sum(x)\n",
    "acum"
   ]
  },
  {
   "cell_type": "code",
   "execution_count": null,
   "id": "093970fa",
   "metadata": {},
   "outputs": [],
   "source": [
    "# Convertir arreglo de numpy a tensor\n",
    "x = np.linspace(0,1,10)\n",
    "t = tf.constant(x)\n",
    "t"
   ]
  },
  {
   "cell_type": "code",
   "execution_count": null,
   "id": "54be8ae2",
   "metadata": {},
   "outputs": [],
   "source": [
    "# Convertir tensor a arreglo de numpy\n",
    "t = tf.linspace(0.0,1.0,10)\n",
    "x = t.numpy()\n",
    "x"
   ]
  },
  {
   "cell_type": "markdown",
   "id": "dfb3a2f8",
   "metadata": {},
   "source": [
    "En general, la sintáxis de Tensorflow es muy similar a la de numpy y dada está funcionalidad, podemos usar arreglos de cualquiera de los dos frameworks. No obstante, es necesario tener en cuenta que numpy está diseñado para trabajar con la CPU, mientras que Tensorflow permite utilizar hardware para acelerar el cómputo (e.g., unidades de procesamiento gráfico (GPU) o unidades de procesamiento tensorial (TPU)). Por lo cual, no es recomendable mezclar estos dos frameworks (la conversión de información entre la vRAM de la GPU y la RAM del computador es una operación costosa) a no ser que sea completamente necesario.\n",
    "\n",
    "Veamos un ejemplo de cómo seleccionar el tipo de hardware que se usará y una comparación del desempeño. \n",
    "\n",
    "En el siguiente código especificamos que los cálculos deben hacerse utilizando la CPU:"
   ]
  },
  {
   "cell_type": "code",
   "execution_count": null,
   "id": "a7bef750",
   "metadata": {},
   "outputs": [],
   "source": [
    "%%timeit\n",
    "# Ejecución en CPU\n",
    "with tf.device(\"CPU:0\"):\n",
    "    X = tf.random.uniform(shape=(1000, 1000), minval=0, maxval=1)\n",
    "    # La siguiente función evalúa si un tensor está en determinado dispositivo\n",
    "    assert X.device.endswith(\"CPU:0\")\n",
    "    tf.matmul(X, X)"
   ]
  },
  {
   "cell_type": "markdown",
   "id": "7874d97c",
   "metadata": {},
   "source": [
    "El siguiente código especifica que el dispositivo para llevar a cabo la ejecución debe ser la GPU:"
   ]
  },
  {
   "cell_type": "code",
   "execution_count": null,
   "id": "7ee83ab6",
   "metadata": {},
   "outputs": [],
   "source": [
    "%%timeit\n",
    "# Ejecución en GPU\n",
    "with tf.device(\"GPU:0\"):\n",
    "    X = tf.random.uniform(shape=(1000, 1000), minval=0, maxval=1)\n",
    "    # La siguiente función evalúa si un tensor está en determinado dispositivo\n",
    "    assert X.device.endswith(\"GPU:0\")\n",
    "    tf.matmul(X, X)"
   ]
  },
  {
   "cell_type": "markdown",
   "id": "f5f3b383",
   "metadata": {},
   "source": [
    "Ahora, veamos una comparación de la misma operación en numpy:"
   ]
  },
  {
   "cell_type": "code",
   "execution_count": null,
   "id": "d10067bd",
   "metadata": {},
   "outputs": [],
   "source": [
    "%%timeit\n",
    "# Ejecución en CPU con numpy\n",
    "X = np.random.uniform(0, 1, size=(1000, 1000))\n",
    "X @ X"
   ]
  },
  {
   "cell_type": "markdown",
   "id": "f40fb5c6",
   "metadata": {},
   "source": [
    "### Keras\n",
    "\n",
    "Originalmente, Keras era un *framework* de alto nivel escrito en Python que utilizaba diferentes *backends* de *deep learning* como: Tensorflow, CNTK o Theano. Actualmente, es un paquete dentro de Tensorflow 2.0 que nos permite simplificar tanto el entrenamiento como el diseño de modelos de *machine learning* y redes neuronales. \n",
    "\n",
    "```tf.keras``` es usado para la creación rápida de modelos y tiene tres ventajas:\n",
    "\n",
    "* **Amigable al usuario**: keras tiene una interfaz simple y consistente que ha sido optimizada para el uso en casos típicos. \n",
    "* **Modular**: la construcción de modelos se basa en conectar bloques personalizables con pocas restricciones.\n",
    "* **Fácil extensión**: permite implementar nuevos módulos fácilmente usando todas las funcionalidades de Tensorflow, lo cual, facilita la construcción de nuevos modelos o modelos del estado del arte.\n",
    "\n",
    "Veamos ejemplos con modelos básicos de *machine learning* usando keras."
   ]
  },
  {
   "cell_type": "markdown",
   "id": "4770eb94",
   "metadata": {},
   "source": [
    "#### Regresión lineal\n",
    "\n",
    "Comencemos con la implementación de uno de los modelos más simples de *machine learning*: el modelo lineal o la regresión lineal. Para ello, utilizaremos un dataset que contiene información de la edad y la estatura en niños. "
   ]
  },
  {
   "cell_type": "code",
   "execution_count": null,
   "id": "d1f70c50",
   "metadata": {},
   "outputs": [],
   "source": [
    "# Cargar el dataset\n",
    "X = tf.random.uniform(\n",
    "        shape=(100, 1),\n",
    "        minval=0,\n",
    "        maxval=20,\n",
    "        dtype=tf.float32\n",
    "        )\n",
    "y = X * 8 + 50 + tf.random.normal(\n",
    "        shape=(100, 1),\n",
    "        mean=0,\n",
    "        stddev=10,\n",
    "        dtype=tf.float32\n",
    "        )\n",
    "\n",
    "# Visualicemos los datos\n",
    "plt.figure(figsize=(7,7))\n",
    "plt.scatter(tf.squeeze(X), y, c=\"k\", alpha=0.5)\n",
    "plt.xlabel(\"Edad [años]\"); plt.ylabel(\"Estatura [cm]\")"
   ]
  },
  {
   "cell_type": "markdown",
   "id": "bb7c473e",
   "metadata": {},
   "source": [
    "La regresión lineal es un modelo matemático que permite aproximar el valor de una variable independiente $y_i$ con un conjunto de variables independientes $\\vec{x}_i=[x_1,x_2,\\dots,x_m]^T$ y por medio de una relación líneal:\n",
    "\n",
    "$$\n",
    "\\tilde{y_i}=w_1 x_1+w_2 x_2+\\dots+w_m x_m +w_0=\\vec{w}\\cdot\\vec{x}_i\n",
    "$$\n",
    "\n",
    "Generalmente, para poder estimar los parámetros del modelo $w_i$ se necesitan varios ejemplos u observaciones. Siguiendo la convención típica de *machine learning*, partimos de una matríz $\\mathbf{X}$ de tamaño $N\\times m$ (donde $N$ es el número de observaciones y $m$ es el número de variables independientes) y un vector de etiquetas $\\vec{y}=[y_1,y_2,\\dots,y_N]^T$.\n",
    "\n",
    "Veamos como implementar este modelo en Keras, el modelo de regresión lineal en keras se define utilizando el objeto ```tf.keras.models.Sequential``` (más adelante entraremos en detalle sobre los tipos de modelos en keras) y el bloque funcional ```tf.keras.layers.Dense```, el cual define unos pesos $w$ (```tf.Variable```) y las operaciones necesarias para realizar una predicción."
   ]
  },
  {
   "cell_type": "code",
   "execution_count": null,
   "id": "b3ca1ac7",
   "metadata": {},
   "outputs": [],
   "source": [
    "# Definimos un modelo en keras\n",
    "model = tf.keras.models.Sequential()\n",
    "# Creamos una capa densa lineal (modelo lineal)\n",
    "reg_lay = tf.keras.layers.Dense(units=1, activation=\"linear\", input_shape=(1, ))\n",
    "# Agregamos la capa lineal\n",
    "model.add(reg_lay)\n",
    "# Veamos un resumen del modelo\n",
    "model.summary()"
   ]
  },
  {
   "cell_type": "markdown",
   "id": "a5610bb7",
   "metadata": {},
   "source": [
    "En keras, el modelo lineal se compone de dos parámetros: los pesos ($w_1,w_2,\\dots,w_m$) y el sesgo o intercepto ($w_0$):"
   ]
  },
  {
   "cell_type": "code",
   "execution_count": null,
   "id": "14dc0d21",
   "metadata": {},
   "outputs": [],
   "source": [
    " # Extraemos los parámetros de la capa\n",
    "params = reg_lay.weights\n",
    "# pesos\n",
    "print(\"Los pesos del modelo son:\\n{}\".format(params[0]))\n",
    "# sesgo\n",
    "print(\"El sesgo del modelo es:\\n{}\".format(params[1]))"
   ]
  },
  {
   "cell_type": "markdown",
   "id": "d93e1b1a",
   "metadata": {},
   "source": [
    "Inicialmente, Keras genera los pesos del modelo de forma aleatoria (los cuales se estimarán durante el entrenamiento), veamos un ejemplo de esto: "
   ]
  },
  {
   "cell_type": "code",
   "execution_count": null,
   "id": "880cf16b",
   "metadata": {},
   "outputs": [],
   "source": [
    "# Evaluamos el modelo (pesos aleatorios) en el conjunto de datos\n",
    "y_tilde = model(X)\n",
    "\n",
    "#Visualizamos las predicciones\n",
    "plt.figure(figsize=(7, 7))\n",
    "plt.scatter(tf.squeeze(X), y, c=\"k\", alpha=0.5)\n",
    "plt.plot(tf.squeeze(X), tf.squeeze(y_tilde), c=\"k\", alpha=0.5)\n",
    "plt.xlabel(\"Edad [años]\"); plt.ylabel(\"Estatura [metros]\")"
   ]
  },
  {
   "cell_type": "markdown",
   "id": "dd7b736b",
   "metadata": {},
   "source": [
    "En el caso de la regresión lineal las etiquetas son valores continúos $y_i\\in \\mathbb{R}$, por lo cual, lo que se busca con el modelo lineal es aproximar de la mejor forma un valor predicho $\\widetilde{y}_i$ al valor real $y_i$. Esto se puede ver como un problema de optimización en el que se busca que la distancia (error cuadrático medio) entre estos dos valores sea lo más pequeña posible, es decir, se optimiza la siguiente función de pérdida:\n",
    "\n",
    "$$\n",
    "\\mathcal{L}(w)=\\frac{1}{N}\\sum_{i=1}^{N}(y_i-\\widetilde{y}_i)^2\n",
    "$$\n",
    "\n",
    "Para entrenar el modelo debemos compilarlo, es decir, especificar un optimizador y una función de pérdida:"
   ]
  },
  {
   "cell_type": "code",
   "execution_count": null,
   "id": "ac22f51c",
   "metadata": {},
   "outputs": [],
   "source": [
    "# Optimizador\n",
    "opt = tf.optimizers.Adam(lr=1e-1)\n",
    "# compilación\n",
    "model.compile(optimizer=opt, loss=\"mse\")"
   ]
  },
  {
   "cell_type": "markdown",
   "id": "4ef97922",
   "metadata": {},
   "source": [
    "Finalmente, para entrenar el modelo utilizamos el método ```fit```:"
   ]
  },
  {
   "cell_type": "code",
   "execution_count": null,
   "id": "80a05a4d",
   "metadata": {},
   "outputs": [],
   "source": [
    "# Entrenamos el modelo\n",
    "model.fit(X, y, epochs=100)"
   ]
  },
  {
   "cell_type": "markdown",
   "id": "9451fb4b",
   "metadata": {},
   "source": [
    "Veamos los pesos estimados:"
   ]
  },
  {
   "cell_type": "code",
   "execution_count": null,
   "id": "5e3c0ea7",
   "metadata": {
    "lines_to_next_cell": 2
   },
   "outputs": [],
   "source": [
    "# Pesos\n",
    "print(\"Los pesos del modelo son:\\n{}\".format(params[0]))\n",
    "# sesgo\n",
    "print(\"El sesgo del modelo es:\\n{}\".format(params[1]))"
   ]
  },
  {
   "cell_type": "markdown",
   "id": "6b407e25",
   "metadata": {},
   "source": [
    "Y las predicciones:"
   ]
  },
  {
   "cell_type": "code",
   "execution_count": null,
   "id": "781656cf",
   "metadata": {},
   "outputs": [],
   "source": [
    "# Evaluamos el modelo (pesos aleatorios) en el conjunto de datos\n",
    "y_tilde = model.predict(X)\n",
    "\n",
    "#Visualizamos las predicciones\n",
    "plt.figure(figsize=(7, 7))\n",
    "plt.scatter(tf.squeeze(X), y, c=\"k\", alpha=0.5)\n",
    "plt.plot(tf.squeeze(X), tf.squeeze(y_tilde), c=\"k\", alpha=0.5)\n",
    "plt.xlabel(\"Edad [años]\"); plt.ylabel(\"Estatura [metros]\")"
   ]
  },
  {
   "cell_type": "markdown",
   "id": "c5ad938e",
   "metadata": {},
   "source": [
    "#### Regresión Logística \n",
    "\n",
    "Otro modelo básico es la regresión logística, para mostrar su implementación en Keras utilizaremos un dataset sintético que generaremos utilizando la librería de Scikit-learn:\n"
   ]
  },
  {
   "cell_type": "code",
   "execution_count": null,
   "id": "55fcf789",
   "metadata": {},
   "outputs": [],
   "source": [
    "from sklearn.datasets import make_blobs\n",
    "X, y = make_blobs(n_samples=300, centers=[(-1, -1), (1, 1)], cluster_std=0.3)\n",
    "X = tf.constant(X)\n",
    "y = tf.constant(y)\n",
    "\n",
    "# grafiquemos los datos\n",
    "plt.figure(figsize=(7,7))\n",
    "plt.scatter(X[:, 0], X[:, 1], c=y, alpha=0.5)\n",
    "plt.xlabel(\"$x_1$\"); plt.ylabel(\"$x_2$\")"
   ]
  },
  {
   "cell_type": "markdown",
   "id": "c0828c08",
   "metadata": {
    "lines_to_next_cell": 0
   },
   "source": [
    "\n",
    "La regresión logística es un modelo de clasificación binaria, es decir, las etiquetas pueden tomar el valor de 0 o 1. El modelo logístico se muestra a continuación:\n",
    "\n",
    "$$\n",
    "\\tilde{y_i}=\\frac{1}{1+e^{w_1 x_1+w_2 x_2+\\dots+w_m x_m +w_0}}=\\frac{1}{1+e^{\\vec{w}\\cdot\\vec{x}_i}}\n",
    "$$\n",
    "\n",
    "Esto es equivalente a la siguiente expresión:\n",
    "\n",
    "$$\n",
    "\\tilde{y_i}=\\text{sigmoid}(\\vec{w}\\cdot\\vec{x}_i)\n",
    "$$\n"
   ]
  },
  {
   "cell_type": "markdown",
   "id": "401ed013",
   "metadata": {},
   "source": [
    "\n",
    "Veamos la implementación de este modelo en keras. Al igual que la regresión lineal, el modelo logístico en keras se define utilizando el objeto ```tf.keras.models.Sequential``` y el bloque funcional ```tf.keras.layers.Dense```, el cual define unos pesos $w$ (```tf.Variable```) y las operaciones necesarias para realizar una predicción.\n",
    "\n",
    "La regresión logística también se puede abordar como un problema de optimización con una función de pérdida conocida como entropía cruzada binaria, la cual se muestra a continuación:\n",
    "\n",
    "$$\\mathcal{L}(w)=-\\frac{1}{N}\\sum[y_i\\log(\\tilde{y}_i)]+(1-y_i)\\log(1-\\tilde{y}_i)]$$\n",
    "\n",
    "Veamos la implementación de este modelo en Keras:"
   ]
  },
  {
   "cell_type": "code",
   "execution_count": null,
   "id": "cee9ae65",
   "metadata": {},
   "outputs": [],
   "source": [
    "# Definimos el modelo\n",
    "model = tf.keras.models.Sequential(\n",
    "        [\n",
    "            tf.keras.layers.Dense(\n",
    "                1,\n",
    "                input_shape=(2, ),\n",
    "                activation=\"sigmoid\"\n",
    "                )\n",
    "            ]\n",
    "        )"
   ]
  },
  {
   "cell_type": "code",
   "execution_count": null,
   "id": "613db773",
   "metadata": {},
   "outputs": [],
   "source": [
    "# Comiplamos el modelo\n",
    "opt = tf.optimizers.Adam(lr=1e-2)\n",
    "model.compile(optimizer=opt, loss=\"categorical_crossentropy\")"
   ]
  },
  {
   "cell_type": "markdown",
   "id": "b08ad16a",
   "metadata": {},
   "source": [
    "Ahora, vamos a entrenar el modelo:"
   ]
  },
  {
   "cell_type": "code",
   "execution_count": null,
   "id": "3bfa2d46",
   "metadata": {},
   "outputs": [],
   "source": [
    "model.fit(X, y, epochs=100)"
   ]
  },
  {
   "cell_type": "markdown",
   "id": "c1855f3d",
   "metadata": {},
   "source": [
    "Podemos visualizar las regiones de decisión del modelo entrenado:"
   ]
  },
  {
   "cell_type": "code",
   "execution_count": null,
   "id": "0a198bc5",
   "metadata": {},
   "outputs": [],
   "source": [
    "plot_decision_region(X, y, model)"
   ]
  }
 ],
 "metadata": {
  "jupytext": {
   "cell_metadata_filter": "id,-all",
   "main_language": "python",
   "notebook_metadata_filter": "-all"
  }
 },
 "nbformat": 4,
 "nbformat_minor": 5
}
